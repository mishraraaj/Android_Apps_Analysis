{
  "nbformat": 4,
  "nbformat_minor": 0,
  "metadata": {
    "kernelspec": {
      "display_name": "Python 3",
      "language": "python",
      "name": "python3"
    },
    "language_info": {
      "codemirror_mode": {
        "name": "ipython",
        "version": 3
      },
      "file_extension": ".py",
      "mimetype": "text/x-python",
      "name": "python",
      "nbconvert_exporter": "python",
      "pygments_lexer": "ipython3",
      "version": "3.6.6"
    },
    "colab": {
      "name": "raj_mishra- Team 2 - Capstone Project1.ipynb",
      "provenance": [],
      "collapsed_sections": [],
      "include_colab_link": true
    }
  },
  "cells": [
    {
      "cell_type": "markdown",
      "metadata": {
        "id": "view-in-github",
        "colab_type": "text"
      },
      "source": [
        "<a href=\"https://colab.research.google.com/github/mishraraaj/Android_Apps_Analysis/blob/main/raj_mishra_Team_2_Capstone_Project1.ipynb\" target=\"_parent\"><img src=\"https://colab.research.google.com/assets/colab-badge.svg\" alt=\"Open In Colab\"/></a>"
      ]
    },
    {
      "cell_type": "markdown",
      "metadata": {
        "id": "Y06xIdG26kRF"
      },
      "source": [
        "## <b> The Play Store apps data has enormous potential to drive app-making businesses to success. Actionable insights can be drawn for developers to work on and capture the Android market. </b>\n",
        "\n",
        "## <b> Each app (row) has values for catergory, rating, size, and more. Another dataset contains customer reviews of the android apps.</b>\n",
        "\n",
        "## <b> Explore and analyze the data to discover key factors responsible for app engagement and success. </b>"
      ]
    },
    {
      "cell_type": "markdown",
      "metadata": {
        "id": "CYMdDxO8cIrb"
      },
      "source": [
        "Nowadays every single day there are a tremendous amount of ideas related to creating a new app comes to the mind of every single individual, with tools and application helping in the creation of mobile apps it is even easy to implement those ideas. So how this data can help anyone in detecting the target factors responsible for app engagement and success. \n",
        "Before jumping to any kind of conclusions we have to\n",
        "\n",
        "1.<b> Understand </b> the Problem.\n",
        "Understand dependent variables, for the given problem.\n",
        "\n",
        "2.Derive the correlation btw the features whether they are correlated or independent.\n",
        "\n",
        "See the effect of features on the dependent variable, \n",
        "And Conclude, and then Test the conclusion on the given data."
      ]
    },
    {
      "cell_type": "code",
      "metadata": {
        "id": "h5lFV_Gs-KSm"
      },
      "source": [
        "%matplotlib inline"
      ],
      "execution_count": 341,
      "outputs": []
    },
    {
      "cell_type": "code",
      "metadata": {
        "id": "7LLd3gAb8vns",
        "outputId": "e0494c82-74bc-4013-9007-967cd3d01896",
        "colab": {
          "base_uri": "https://localhost:8080/"
        }
      },
      "source": [
        "from google.colab import drive\n",
        "drive.mount('/content/drive')\n"
      ],
      "execution_count": 342,
      "outputs": [
        {
          "output_type": "stream",
          "text": [
            "Drive already mounted at /content/drive; to attempt to forcibly remount, call drive.mount(\"/content/drive\", force_remount=True).\n"
          ],
          "name": "stdout"
        }
      ]
    },
    {
      "cell_type": "code",
      "metadata": {
        "id": "wKI3nv9_96KY"
      },
      "source": [
        "import pandas as pd\n",
        "import numpy as np\n",
        "import re"
      ],
      "execution_count": 343,
      "outputs": []
    },
    {
      "cell_type": "code",
      "metadata": {
        "id": "RtlAF7jnnZDz"
      },
      "source": [
        "import matplotlib.pyplot as plt\n",
        "import seaborn as sns"
      ],
      "execution_count": 344,
      "outputs": []
    },
    {
      "cell_type": "code",
      "metadata": {
        "id": "dByMsuzT8Tnw"
      },
      "source": [
        "playstore_df=pd.read_csv('/content/drive/My Drive/AlmaBetter/Cohort Aravali/Module 2/Week 1/googleplaystore.csv')\n",
        "users_df=pd.read_csv('/content/drive/My Drive/AlmaBetter/Cohort Aravali/Module 2/Week 1/googleplaystore_user_reviews.csv')"
      ],
      "execution_count": 345,
      "outputs": []
    },
    {
      "cell_type": "code",
      "metadata": {
        "id": "2WyscxcH8wI6"
      },
      "source": [
        ""
      ],
      "execution_count": 345,
      "outputs": []
    },
    {
      "cell_type": "code",
      "metadata": {
        "id": "UjkGxglp-CWb",
        "outputId": "e091d9d7-9e6f-4e87-a6a8-395c577e574b",
        "colab": {
          "base_uri": "https://localhost:8080/",
          "height": 198
        }
      },
      "source": [
        "users_df.head()"
      ],
      "execution_count": 346,
      "outputs": [
        {
          "output_type": "execute_result",
          "data": {
            "text/html": [
              "<div>\n",
              "<style scoped>\n",
              "    .dataframe tbody tr th:only-of-type {\n",
              "        vertical-align: middle;\n",
              "    }\n",
              "\n",
              "    .dataframe tbody tr th {\n",
              "        vertical-align: top;\n",
              "    }\n",
              "\n",
              "    .dataframe thead th {\n",
              "        text-align: right;\n",
              "    }\n",
              "</style>\n",
              "<table border=\"1\" class=\"dataframe\">\n",
              "  <thead>\n",
              "    <tr style=\"text-align: right;\">\n",
              "      <th></th>\n",
              "      <th>App</th>\n",
              "      <th>Translated_Review</th>\n",
              "      <th>Sentiment</th>\n",
              "      <th>Sentiment_Polarity</th>\n",
              "      <th>Sentiment_Subjectivity</th>\n",
              "    </tr>\n",
              "  </thead>\n",
              "  <tbody>\n",
              "    <tr>\n",
              "      <th>0</th>\n",
              "      <td>10 Best Foods for You</td>\n",
              "      <td>I like eat delicious food. That's I'm cooking ...</td>\n",
              "      <td>Positive</td>\n",
              "      <td>1.00</td>\n",
              "      <td>0.533333</td>\n",
              "    </tr>\n",
              "    <tr>\n",
              "      <th>1</th>\n",
              "      <td>10 Best Foods for You</td>\n",
              "      <td>This help eating healthy exercise regular basis</td>\n",
              "      <td>Positive</td>\n",
              "      <td>0.25</td>\n",
              "      <td>0.288462</td>\n",
              "    </tr>\n",
              "    <tr>\n",
              "      <th>2</th>\n",
              "      <td>10 Best Foods for You</td>\n",
              "      <td>NaN</td>\n",
              "      <td>NaN</td>\n",
              "      <td>NaN</td>\n",
              "      <td>NaN</td>\n",
              "    </tr>\n",
              "    <tr>\n",
              "      <th>3</th>\n",
              "      <td>10 Best Foods for You</td>\n",
              "      <td>Works great especially going grocery store</td>\n",
              "      <td>Positive</td>\n",
              "      <td>0.40</td>\n",
              "      <td>0.875000</td>\n",
              "    </tr>\n",
              "    <tr>\n",
              "      <th>4</th>\n",
              "      <td>10 Best Foods for You</td>\n",
              "      <td>Best idea us</td>\n",
              "      <td>Positive</td>\n",
              "      <td>1.00</td>\n",
              "      <td>0.300000</td>\n",
              "    </tr>\n",
              "  </tbody>\n",
              "</table>\n",
              "</div>"
            ],
            "text/plain": [
              "                     App  ... Sentiment_Subjectivity\n",
              "0  10 Best Foods for You  ...               0.533333\n",
              "1  10 Best Foods for You  ...               0.288462\n",
              "2  10 Best Foods for You  ...                    NaN\n",
              "3  10 Best Foods for You  ...               0.875000\n",
              "4  10 Best Foods for You  ...               0.300000\n",
              "\n",
              "[5 rows x 5 columns]"
            ]
          },
          "metadata": {
            "tags": []
          },
          "execution_count": 346
        }
      ]
    },
    {
      "cell_type": "code",
      "metadata": {
        "id": "YMJgyZvy-Esr",
        "outputId": "131f7ef1-194e-494d-ccae-2c90eed28783",
        "colab": {
          "base_uri": "https://localhost:8080/"
        }
      },
      "source": [
        "users_df.columns"
      ],
      "execution_count": 347,
      "outputs": [
        {
          "output_type": "execute_result",
          "data": {
            "text/plain": [
              "Index(['App', 'Translated_Review', 'Sentiment', 'Sentiment_Polarity',\n",
              "       'Sentiment_Subjectivity'],\n",
              "      dtype='object')"
            ]
          },
          "metadata": {
            "tags": []
          },
          "execution_count": 347
        }
      ]
    },
    {
      "cell_type": "code",
      "metadata": {
        "id": "MTgKH186nMdI",
        "outputId": "888c9c49-a5d2-4768-f95a-b9504761fa0d",
        "colab": {
          "base_uri": "https://localhost:8080/"
        }
      },
      "source": [
        "playstore_df.columns"
      ],
      "execution_count": 348,
      "outputs": [
        {
          "output_type": "execute_result",
          "data": {
            "text/plain": [
              "Index(['App', 'Category', 'Rating', 'Reviews', 'Size', 'Installs', 'Type',\n",
              "       'Price', 'Content Rating', 'Genres', 'Last Updated', 'Current Ver',\n",
              "       'Android Ver'],\n",
              "      dtype='object')"
            ]
          },
          "metadata": {
            "tags": []
          },
          "execution_count": 348
        }
      ]
    },
    {
      "cell_type": "markdown",
      "metadata": {
        "id": "qQUJiiPfm64X"
      },
      "source": [
        "So, from this given data if we have to conclude the success of app the better measure for that would be the No of Installs of any application, \n",
        "\n",
        "Not just that we also have to consider the user ratings, because for mot of the creators the user experience matters the most. \n",
        "\n",
        "\n",
        "\n",
        "Apart from it we will analyze which Category has higher no of users, who are willingly paying for the service and we will analyze category wise w hich are the category with most positive user experience \n",
        "\n",
        " "
      ]
    },
    {
      "cell_type": "code",
      "metadata": {
        "id": "_lxEbydmpiL9",
        "outputId": "4ff830c3-7e8b-4377-f9ad-a92ea6b6be0b",
        "colab": {
          "base_uri": "https://localhost:8080/"
        }
      },
      "source": [
        "playstore_df.info()"
      ],
      "execution_count": 349,
      "outputs": [
        {
          "output_type": "stream",
          "text": [
            "<class 'pandas.core.frame.DataFrame'>\n",
            "RangeIndex: 10841 entries, 0 to 10840\n",
            "Data columns (total 13 columns):\n",
            " #   Column          Non-Null Count  Dtype  \n",
            "---  ------          --------------  -----  \n",
            " 0   App             10841 non-null  object \n",
            " 1   Category        10841 non-null  object \n",
            " 2   Rating          9367 non-null   float64\n",
            " 3   Reviews         10841 non-null  object \n",
            " 4   Size            10841 non-null  object \n",
            " 5   Installs        10841 non-null  object \n",
            " 6   Type            10840 non-null  object \n",
            " 7   Price           10841 non-null  object \n",
            " 8   Content Rating  10840 non-null  object \n",
            " 9   Genres          10841 non-null  object \n",
            " 10  Last Updated    10841 non-null  object \n",
            " 11  Current Ver     10833 non-null  object \n",
            " 12  Android Ver     10838 non-null  object \n",
            "dtypes: float64(1), object(12)\n",
            "memory usage: 1.1+ MB\n"
          ],
          "name": "stdout"
        }
      ]
    },
    {
      "cell_type": "markdown",
      "metadata": {
        "id": "dFe-hLLlq7K6"
      },
      "source": [
        "So Genrally People are rating 4+ Rewiews in All the categeories so it will not give much idea wheather any categeory affects users ratings or not"
      ]
    },
    {
      "cell_type": "markdown",
      "metadata": {
        "id": "kF527sPrZ-4r"
      },
      "source": [
        "#2 Cleaning the data\n",
        "i.e the column containing those values which are not required ,and replacing not required charaters"
      ]
    },
    {
      "cell_type": "markdown",
      "metadata": {
        "id": "aeJrXpZgiaPs"
      },
      "source": [
        "This row Contains Mostly Random Values So we will not Consider this because it is not efficient to fill all the values"
      ]
    },
    {
      "cell_type": "code",
      "metadata": {
        "id": "K6zzFkmCZ6qh",
        "outputId": "a0a70a53-fd95-4b66-f3bf-11c5e6cc50de",
        "colab": {
          "base_uri": "https://localhost:8080/"
        }
      },
      "source": [
        "playstore_df[\"Installs\"].value_counts()"
      ],
      "execution_count": 350,
      "outputs": [
        {
          "output_type": "execute_result",
          "data": {
            "text/plain": [
              "1,000,000+        1579\n",
              "10,000,000+       1252\n",
              "100,000+          1169\n",
              "10,000+           1054\n",
              "1,000+             907\n",
              "5,000,000+         752\n",
              "100+               719\n",
              "500,000+           539\n",
              "50,000+            479\n",
              "5,000+             477\n",
              "100,000,000+       409\n",
              "10+                386\n",
              "500+               330\n",
              "50,000,000+        289\n",
              "50+                205\n",
              "5+                  82\n",
              "500,000,000+        72\n",
              "1+                  67\n",
              "1,000,000,000+      58\n",
              "0+                  14\n",
              "Free                 1\n",
              "0                    1\n",
              "Name: Installs, dtype: int64"
            ]
          },
          "metadata": {
            "tags": []
          },
          "execution_count": 350
        }
      ]
    },
    {
      "cell_type": "code",
      "metadata": {
        "id": "_sPApQx-q2AS"
      },
      "source": [
        "playstore_df['Installs'] = playstore_df['Installs'] .map(lambda x: re.sub(r'\\W+', '', x))"
      ],
      "execution_count": 351,
      "outputs": []
    },
    {
      "cell_type": "code",
      "metadata": {
        "id": "fsDNyBAAe1tb",
        "outputId": "38ea4971-7b59-4a50-ba79-f3d9d2327117",
        "colab": {
          "base_uri": "https://localhost:8080/",
          "height": 113
        }
      },
      "source": [
        "playstore_df[playstore_df['Installs'].str.contains('[A-Za-z]')]"
      ],
      "execution_count": 352,
      "outputs": [
        {
          "output_type": "execute_result",
          "data": {
            "text/html": [
              "<div>\n",
              "<style scoped>\n",
              "    .dataframe tbody tr th:only-of-type {\n",
              "        vertical-align: middle;\n",
              "    }\n",
              "\n",
              "    .dataframe tbody tr th {\n",
              "        vertical-align: top;\n",
              "    }\n",
              "\n",
              "    .dataframe thead th {\n",
              "        text-align: right;\n",
              "    }\n",
              "</style>\n",
              "<table border=\"1\" class=\"dataframe\">\n",
              "  <thead>\n",
              "    <tr style=\"text-align: right;\">\n",
              "      <th></th>\n",
              "      <th>App</th>\n",
              "      <th>Category</th>\n",
              "      <th>Rating</th>\n",
              "      <th>Reviews</th>\n",
              "      <th>Size</th>\n",
              "      <th>Installs</th>\n",
              "      <th>Type</th>\n",
              "      <th>Price</th>\n",
              "      <th>Content Rating</th>\n",
              "      <th>Genres</th>\n",
              "      <th>Last Updated</th>\n",
              "      <th>Current Ver</th>\n",
              "      <th>Android Ver</th>\n",
              "    </tr>\n",
              "  </thead>\n",
              "  <tbody>\n",
              "    <tr>\n",
              "      <th>10472</th>\n",
              "      <td>Life Made WI-Fi Touchscreen Photo Frame</td>\n",
              "      <td>1.9</td>\n",
              "      <td>19.0</td>\n",
              "      <td>3.0M</td>\n",
              "      <td>1,000+</td>\n",
              "      <td>Free</td>\n",
              "      <td>0</td>\n",
              "      <td>Everyone</td>\n",
              "      <td>NaN</td>\n",
              "      <td>February 11, 2018</td>\n",
              "      <td>1.0.19</td>\n",
              "      <td>4.0 and up</td>\n",
              "      <td>NaN</td>\n",
              "    </tr>\n",
              "  </tbody>\n",
              "</table>\n",
              "</div>"
            ],
            "text/plain": [
              "                                           App Category  ...  Current Ver Android Ver\n",
              "10472  Life Made WI-Fi Touchscreen Photo Frame      1.9  ...   4.0 and up         NaN\n",
              "\n",
              "[1 rows x 13 columns]"
            ]
          },
          "metadata": {
            "tags": []
          },
          "execution_count": 352
        }
      ]
    },
    {
      "cell_type": "code",
      "metadata": {
        "id": "-gDmebcpimYJ"
      },
      "source": [
        "playstore_df.drop(playstore_df.index[10472],inplace=True)\n",
        "playstore_df=playstore_df.reindex(range(len(playstore_df)))\n"
      ],
      "execution_count": 353,
      "outputs": []
    },
    {
      "cell_type": "code",
      "metadata": {
        "id": "tKWSIlvdZ6uG"
      },
      "source": [
        "playstore_df['Installs']=playstore_df['Installs'].astype(float)"
      ],
      "execution_count": 354,
      "outputs": []
    },
    {
      "cell_type": "code",
      "metadata": {
        "id": "GC55xo9KZ63t"
      },
      "source": [
        "playstore_df['Reviews']=playstore_df['Reviews'].astype(float)"
      ],
      "execution_count": 355,
      "outputs": []
    },
    {
      "cell_type": "code",
      "metadata": {
        "id": "f0677455Z69R",
        "outputId": "4593e6a3-c522-4ff9-e531-7d8592693a66",
        "colab": {
          "base_uri": "https://localhost:8080/"
        }
      },
      "source": [
        "playstore_df['Size']"
      ],
      "execution_count": 356,
      "outputs": [
        {
          "output_type": "execute_result",
          "data": {
            "text/plain": [
              "0                       19M\n",
              "1                       14M\n",
              "2                      8.7M\n",
              "3                       25M\n",
              "4                      2.8M\n",
              "                ...        \n",
              "10835                  9.6M\n",
              "10836                   53M\n",
              "10837                  3.6M\n",
              "10838                  9.5M\n",
              "10839    Varies with device\n",
              "Name: Size, Length: 10840, dtype: object"
            ]
          },
          "metadata": {
            "tags": []
          },
          "execution_count": 356
        }
      ]
    },
    {
      "cell_type": "code",
      "metadata": {
        "id": "JaRKV3ovZ67N"
      },
      "source": [
        "playstore_df['Size']= playstore_df['Size'].replace(\"Varies with device\",np.nan)\n",
        "playstore_df['Size']=playstore_df['Size'].str.replace(\"M\",\"000000\")             # 1024*1024 Bytes =1 Mb\n",
        "playstore_df['Size']= playstore_df['Size'].str.replace(\"k\",\"000\")               # 1024 Bytes= 1 Kb\n",
        "playstore_df['Size'] =playstore_df['Size'].astype(float)"
      ],
      "execution_count": 357,
      "outputs": []
    },
    {
      "cell_type": "code",
      "metadata": {
        "id": "a91v0exJvxUE"
      },
      "source": [
        "playstore_df['Price'] = playstore_df['Price'].astype(str)\n",
        "playstore_df['Price'] = playstore_df['Price'].map(lambda x: x.lstrip('$').rstrip())\n"
      ],
      "execution_count": 358,
      "outputs": []
    },
    {
      "cell_type": "code",
      "metadata": {
        "id": "TPLaV5MNXJIY",
        "outputId": "72863406-e016-4a7f-9588-5e39bd0a2be2",
        "colab": {
          "base_uri": "https://localhost:8080/"
        }
      },
      "source": [
        "playstore_df['Size'][playstore_df['Size']<1000]"
      ],
      "execution_count": 359,
      "outputs": [
        {
          "output_type": "execute_result",
          "data": {
            "text/plain": [
              "2        8.7\n",
              "4        2.8\n",
              "5        5.6\n",
              "9        3.1\n",
              "15       2.7\n",
              "        ... \n",
              "10831    9.8\n",
              "10834    2.6\n",
              "10835    9.6\n",
              "10837    3.6\n",
              "10838    9.5\n",
              "Name: Size, Length: 3609, dtype: float64"
            ]
          },
          "metadata": {
            "tags": []
          },
          "execution_count": 359
        }
      ]
    },
    {
      "cell_type": "code",
      "metadata": {
        "id": "PXyyMVtBZ6xo",
        "outputId": "77b31fa5-fb4c-4ef8-e578-c402e5f0bff8",
        "colab": {
          "base_uri": "https://localhost:8080/"
        }
      },
      "source": [
        "len(playstore_df['Size'][playstore_df['Size'].isna()])\n"
      ],
      "execution_count": 360,
      "outputs": [
        {
          "output_type": "execute_result",
          "data": {
            "text/plain": [
              "1696"
            ]
          },
          "metadata": {
            "tags": []
          },
          "execution_count": 360
        }
      ]
    },
    {
      "cell_type": "code",
      "metadata": {
        "id": "uz0Y4WS_i2uT",
        "outputId": "f54a9e11-51a8-46ea-8c4a-fe2fef33fd62",
        "colab": {
          "base_uri": "https://localhost:8080/",
          "height": 787
        }
      },
      "source": [
        "playstore_df[playstore_df['Size'].isna()] "
      ],
      "execution_count": 361,
      "outputs": [
        {
          "output_type": "execute_result",
          "data": {
            "text/html": [
              "<div>\n",
              "<style scoped>\n",
              "    .dataframe tbody tr th:only-of-type {\n",
              "        vertical-align: middle;\n",
              "    }\n",
              "\n",
              "    .dataframe tbody tr th {\n",
              "        vertical-align: top;\n",
              "    }\n",
              "\n",
              "    .dataframe thead th {\n",
              "        text-align: right;\n",
              "    }\n",
              "</style>\n",
              "<table border=\"1\" class=\"dataframe\">\n",
              "  <thead>\n",
              "    <tr style=\"text-align: right;\">\n",
              "      <th></th>\n",
              "      <th>App</th>\n",
              "      <th>Category</th>\n",
              "      <th>Rating</th>\n",
              "      <th>Reviews</th>\n",
              "      <th>Size</th>\n",
              "      <th>Installs</th>\n",
              "      <th>Type</th>\n",
              "      <th>Price</th>\n",
              "      <th>Content Rating</th>\n",
              "      <th>Genres</th>\n",
              "      <th>Last Updated</th>\n",
              "      <th>Current Ver</th>\n",
              "      <th>Android Ver</th>\n",
              "    </tr>\n",
              "  </thead>\n",
              "  <tbody>\n",
              "    <tr>\n",
              "      <th>37</th>\n",
              "      <td>Floor Plan Creator</td>\n",
              "      <td>ART_AND_DESIGN</td>\n",
              "      <td>4.1</td>\n",
              "      <td>36639.0</td>\n",
              "      <td>NaN</td>\n",
              "      <td>5000000.0</td>\n",
              "      <td>Free</td>\n",
              "      <td>0</td>\n",
              "      <td>Everyone</td>\n",
              "      <td>Art &amp; Design</td>\n",
              "      <td>July 14, 2018</td>\n",
              "      <td>Varies with device</td>\n",
              "      <td>2.3.3 and up</td>\n",
              "    </tr>\n",
              "    <tr>\n",
              "      <th>42</th>\n",
              "      <td>Textgram - write on photos</td>\n",
              "      <td>ART_AND_DESIGN</td>\n",
              "      <td>4.4</td>\n",
              "      <td>295221.0</td>\n",
              "      <td>NaN</td>\n",
              "      <td>10000000.0</td>\n",
              "      <td>Free</td>\n",
              "      <td>0</td>\n",
              "      <td>Everyone</td>\n",
              "      <td>Art &amp; Design</td>\n",
              "      <td>July 30, 2018</td>\n",
              "      <td>Varies with device</td>\n",
              "      <td>Varies with device</td>\n",
              "    </tr>\n",
              "    <tr>\n",
              "      <th>52</th>\n",
              "      <td>Used Cars and Trucks for Sale</td>\n",
              "      <td>AUTO_AND_VEHICLES</td>\n",
              "      <td>4.6</td>\n",
              "      <td>17057.0</td>\n",
              "      <td>NaN</td>\n",
              "      <td>1000000.0</td>\n",
              "      <td>Free</td>\n",
              "      <td>0</td>\n",
              "      <td>Everyone</td>\n",
              "      <td>Auto &amp; Vehicles</td>\n",
              "      <td>July 30, 2018</td>\n",
              "      <td>Varies with device</td>\n",
              "      <td>Varies with device</td>\n",
              "    </tr>\n",
              "    <tr>\n",
              "      <th>67</th>\n",
              "      <td>Ulysse Speedometer</td>\n",
              "      <td>AUTO_AND_VEHICLES</td>\n",
              "      <td>4.3</td>\n",
              "      <td>40211.0</td>\n",
              "      <td>NaN</td>\n",
              "      <td>5000000.0</td>\n",
              "      <td>Free</td>\n",
              "      <td>0</td>\n",
              "      <td>Everyone</td>\n",
              "      <td>Auto &amp; Vehicles</td>\n",
              "      <td>July 30, 2018</td>\n",
              "      <td>Varies with device</td>\n",
              "      <td>Varies with device</td>\n",
              "    </tr>\n",
              "    <tr>\n",
              "      <th>68</th>\n",
              "      <td>REPUVE</td>\n",
              "      <td>AUTO_AND_VEHICLES</td>\n",
              "      <td>3.9</td>\n",
              "      <td>356.0</td>\n",
              "      <td>NaN</td>\n",
              "      <td>100000.0</td>\n",
              "      <td>Free</td>\n",
              "      <td>0</td>\n",
              "      <td>Everyone</td>\n",
              "      <td>Auto &amp; Vehicles</td>\n",
              "      <td>May 25, 2018</td>\n",
              "      <td>Varies with device</td>\n",
              "      <td>Varies with device</td>\n",
              "    </tr>\n",
              "    <tr>\n",
              "      <th>...</th>\n",
              "      <td>...</td>\n",
              "      <td>...</td>\n",
              "      <td>...</td>\n",
              "      <td>...</td>\n",
              "      <td>...</td>\n",
              "      <td>...</td>\n",
              "      <td>...</td>\n",
              "      <td>...</td>\n",
              "      <td>...</td>\n",
              "      <td>...</td>\n",
              "      <td>...</td>\n",
              "      <td>...</td>\n",
              "      <td>...</td>\n",
              "    </tr>\n",
              "    <tr>\n",
              "      <th>10713</th>\n",
              "      <td>My Earthquake Alerts - US &amp; Worldwide Earthquakes</td>\n",
              "      <td>WEATHER</td>\n",
              "      <td>4.4</td>\n",
              "      <td>3471.0</td>\n",
              "      <td>NaN</td>\n",
              "      <td>100000.0</td>\n",
              "      <td>Free</td>\n",
              "      <td>0</td>\n",
              "      <td>Everyone</td>\n",
              "      <td>Weather</td>\n",
              "      <td>July 24, 2018</td>\n",
              "      <td>Varies with device</td>\n",
              "      <td>Varies with device</td>\n",
              "    </tr>\n",
              "    <tr>\n",
              "      <th>10725</th>\n",
              "      <td>Posta App</td>\n",
              "      <td>MAPS_AND_NAVIGATION</td>\n",
              "      <td>3.6</td>\n",
              "      <td>8.0</td>\n",
              "      <td>NaN</td>\n",
              "      <td>1000.0</td>\n",
              "      <td>Free</td>\n",
              "      <td>0</td>\n",
              "      <td>Everyone</td>\n",
              "      <td>Maps &amp; Navigation</td>\n",
              "      <td>September 27, 2017</td>\n",
              "      <td>Varies with device</td>\n",
              "      <td>4.4 and up</td>\n",
              "    </tr>\n",
              "    <tr>\n",
              "      <th>10765</th>\n",
              "      <td>Chat For Strangers - Video Chat</td>\n",
              "      <td>SOCIAL</td>\n",
              "      <td>3.4</td>\n",
              "      <td>622.0</td>\n",
              "      <td>NaN</td>\n",
              "      <td>100000.0</td>\n",
              "      <td>Free</td>\n",
              "      <td>0</td>\n",
              "      <td>Mature 17+</td>\n",
              "      <td>Social</td>\n",
              "      <td>May 23, 2018</td>\n",
              "      <td>Varies with device</td>\n",
              "      <td>Varies with device</td>\n",
              "    </tr>\n",
              "    <tr>\n",
              "      <th>10826</th>\n",
              "      <td>Frim: get new friends on local chat rooms</td>\n",
              "      <td>SOCIAL</td>\n",
              "      <td>4.0</td>\n",
              "      <td>88486.0</td>\n",
              "      <td>NaN</td>\n",
              "      <td>5000000.0</td>\n",
              "      <td>Free</td>\n",
              "      <td>0</td>\n",
              "      <td>Mature 17+</td>\n",
              "      <td>Social</td>\n",
              "      <td>March 23, 2018</td>\n",
              "      <td>Varies with device</td>\n",
              "      <td>Varies with device</td>\n",
              "    </tr>\n",
              "    <tr>\n",
              "      <th>10839</th>\n",
              "      <td>The SCP Foundation DB fr nn5n</td>\n",
              "      <td>BOOKS_AND_REFERENCE</td>\n",
              "      <td>4.5</td>\n",
              "      <td>114.0</td>\n",
              "      <td>NaN</td>\n",
              "      <td>1000.0</td>\n",
              "      <td>Free</td>\n",
              "      <td>0</td>\n",
              "      <td>Mature 17+</td>\n",
              "      <td>Books &amp; Reference</td>\n",
              "      <td>January 19, 2015</td>\n",
              "      <td>Varies with device</td>\n",
              "      <td>Varies with device</td>\n",
              "    </tr>\n",
              "  </tbody>\n",
              "</table>\n",
              "<p>1696 rows × 13 columns</p>\n",
              "</div>"
            ],
            "text/plain": [
              "                                                     App  ...         Android Ver\n",
              "37                                    Floor Plan Creator  ...        2.3.3 and up\n",
              "42                            Textgram - write on photos  ...  Varies with device\n",
              "52                         Used Cars and Trucks for Sale  ...  Varies with device\n",
              "67                                    Ulysse Speedometer  ...  Varies with device\n",
              "68                                                REPUVE  ...  Varies with device\n",
              "...                                                  ...  ...                 ...\n",
              "10713  My Earthquake Alerts - US & Worldwide Earthquakes  ...  Varies with device\n",
              "10725                                          Posta App  ...          4.4 and up\n",
              "10765                    Chat For Strangers - Video Chat  ...  Varies with device\n",
              "10826          Frim: get new friends on local chat rooms  ...  Varies with device\n",
              "10839                      The SCP Foundation DB fr nn5n  ...  Varies with device\n",
              "\n",
              "[1696 rows x 13 columns]"
            ]
          },
          "metadata": {
            "tags": []
          },
          "execution_count": 361
        }
      ]
    },
    {
      "cell_type": "code",
      "metadata": {
        "id": "m31KkRP_VGLB",
        "outputId": "553c541f-415a-4384-d9e9-79ed9bb44ba3",
        "colab": {
          "base_uri": "https://localhost:8080/",
          "height": 859
        }
      },
      "source": [
        "playstore_df[(playstore_df['Installs']>=100000000.0) & (playstore_df['Rating']>4.5)]\n"
      ],
      "execution_count": 362,
      "outputs": [
        {
          "output_type": "execute_result",
          "data": {
            "text/html": [
              "<div>\n",
              "<style scoped>\n",
              "    .dataframe tbody tr th:only-of-type {\n",
              "        vertical-align: middle;\n",
              "    }\n",
              "\n",
              "    .dataframe tbody tr th {\n",
              "        vertical-align: top;\n",
              "    }\n",
              "\n",
              "    .dataframe thead th {\n",
              "        text-align: right;\n",
              "    }\n",
              "</style>\n",
              "<table border=\"1\" class=\"dataframe\">\n",
              "  <thead>\n",
              "    <tr style=\"text-align: right;\">\n",
              "      <th></th>\n",
              "      <th>App</th>\n",
              "      <th>Category</th>\n",
              "      <th>Rating</th>\n",
              "      <th>Reviews</th>\n",
              "      <th>Size</th>\n",
              "      <th>Installs</th>\n",
              "      <th>Type</th>\n",
              "      <th>Price</th>\n",
              "      <th>Content Rating</th>\n",
              "      <th>Genres</th>\n",
              "      <th>Last Updated</th>\n",
              "      <th>Current Ver</th>\n",
              "      <th>Android Ver</th>\n",
              "    </tr>\n",
              "  </thead>\n",
              "  <tbody>\n",
              "    <tr>\n",
              "      <th>139</th>\n",
              "      <td>Wattpad 📖 Free Books</td>\n",
              "      <td>BOOKS_AND_REFERENCE</td>\n",
              "      <td>4.6</td>\n",
              "      <td>2914724.0</td>\n",
              "      <td>NaN</td>\n",
              "      <td>100000000.0</td>\n",
              "      <td>Free</td>\n",
              "      <td>0</td>\n",
              "      <td>Teen</td>\n",
              "      <td>Books &amp; Reference</td>\n",
              "      <td>August 1, 2018</td>\n",
              "      <td>Varies with device</td>\n",
              "      <td>Varies with device</td>\n",
              "    </tr>\n",
              "    <tr>\n",
              "      <th>371</th>\n",
              "      <td>Google Duo - High Quality Video Calls</td>\n",
              "      <td>COMMUNICATION</td>\n",
              "      <td>4.6</td>\n",
              "      <td>2083237.0</td>\n",
              "      <td>NaN</td>\n",
              "      <td>500000000.0</td>\n",
              "      <td>Free</td>\n",
              "      <td>0</td>\n",
              "      <td>Everyone</td>\n",
              "      <td>Communication</td>\n",
              "      <td>July 31, 2018</td>\n",
              "      <td>37.1.206017801.DR37_RC14</td>\n",
              "      <td>4.4 and up</td>\n",
              "    </tr>\n",
              "    <tr>\n",
              "      <th>699</th>\n",
              "      <td>Duolingo: Learn Languages Free</td>\n",
              "      <td>EDUCATION</td>\n",
              "      <td>4.7</td>\n",
              "      <td>6289924.0</td>\n",
              "      <td>NaN</td>\n",
              "      <td>100000000.0</td>\n",
              "      <td>Free</td>\n",
              "      <td>0</td>\n",
              "      <td>Everyone</td>\n",
              "      <td>Education;Education</td>\n",
              "      <td>August 1, 2018</td>\n",
              "      <td>Varies with device</td>\n",
              "      <td>Varies with device</td>\n",
              "    </tr>\n",
              "    <tr>\n",
              "      <th>784</th>\n",
              "      <td>Duolingo: Learn Languages Free</td>\n",
              "      <td>EDUCATION</td>\n",
              "      <td>4.7</td>\n",
              "      <td>6290507.0</td>\n",
              "      <td>NaN</td>\n",
              "      <td>100000000.0</td>\n",
              "      <td>Free</td>\n",
              "      <td>0</td>\n",
              "      <td>Everyone</td>\n",
              "      <td>Education;Education</td>\n",
              "      <td>August 1, 2018</td>\n",
              "      <td>Varies with device</td>\n",
              "      <td>Varies with device</td>\n",
              "    </tr>\n",
              "    <tr>\n",
              "      <th>799</th>\n",
              "      <td>Duolingo: Learn Languages Free</td>\n",
              "      <td>EDUCATION</td>\n",
              "      <td>4.7</td>\n",
              "      <td>6290507.0</td>\n",
              "      <td>NaN</td>\n",
              "      <td>100000000.0</td>\n",
              "      <td>Free</td>\n",
              "      <td>0</td>\n",
              "      <td>Everyone</td>\n",
              "      <td>Education;Education</td>\n",
              "      <td>August 1, 2018</td>\n",
              "      <td>Varies with device</td>\n",
              "      <td>Varies with device</td>\n",
              "    </tr>\n",
              "    <tr>\n",
              "      <th>...</th>\n",
              "      <td>...</td>\n",
              "      <td>...</td>\n",
              "      <td>...</td>\n",
              "      <td>...</td>\n",
              "      <td>...</td>\n",
              "      <td>...</td>\n",
              "      <td>...</td>\n",
              "      <td>...</td>\n",
              "      <td>...</td>\n",
              "      <td>...</td>\n",
              "      <td>...</td>\n",
              "      <td>...</td>\n",
              "      <td>...</td>\n",
              "    </tr>\n",
              "    <tr>\n",
              "      <th>7539</th>\n",
              "      <td>CM Locker - Security Lockscreen</td>\n",
              "      <td>TOOLS</td>\n",
              "      <td>4.6</td>\n",
              "      <td>3090680.0</td>\n",
              "      <td>NaN</td>\n",
              "      <td>100000000.0</td>\n",
              "      <td>Free</td>\n",
              "      <td>0</td>\n",
              "      <td>Everyone</td>\n",
              "      <td>Tools</td>\n",
              "      <td>July 31, 2018</td>\n",
              "      <td>Varies with device</td>\n",
              "      <td>Varies with device</td>\n",
              "    </tr>\n",
              "    <tr>\n",
              "      <th>7808</th>\n",
              "      <td>CamScanner - Phone PDF Creator</td>\n",
              "      <td>PRODUCTIVITY</td>\n",
              "      <td>4.6</td>\n",
              "      <td>1502622.0</td>\n",
              "      <td>NaN</td>\n",
              "      <td>100000000.0</td>\n",
              "      <td>Free</td>\n",
              "      <td>0</td>\n",
              "      <td>Everyone</td>\n",
              "      <td>Productivity</td>\n",
              "      <td>July 3, 2018</td>\n",
              "      <td>Varies with device</td>\n",
              "      <td>Varies with device</td>\n",
              "    </tr>\n",
              "    <tr>\n",
              "      <th>7937</th>\n",
              "      <td>Shadow Fight 2</td>\n",
              "      <td>GAME</td>\n",
              "      <td>4.6</td>\n",
              "      <td>10981850.0</td>\n",
              "      <td>88000000.0</td>\n",
              "      <td>100000000.0</td>\n",
              "      <td>Free</td>\n",
              "      <td>0</td>\n",
              "      <td>Everyone 10+</td>\n",
              "      <td>Action</td>\n",
              "      <td>July 2, 2018</td>\n",
              "      <td>1.9.38</td>\n",
              "      <td>3.0 and up</td>\n",
              "    </tr>\n",
              "    <tr>\n",
              "      <th>8439</th>\n",
              "      <td>Duolingo: Learn Languages Free</td>\n",
              "      <td>FAMILY</td>\n",
              "      <td>4.7</td>\n",
              "      <td>6297590.0</td>\n",
              "      <td>NaN</td>\n",
              "      <td>100000000.0</td>\n",
              "      <td>Free</td>\n",
              "      <td>0</td>\n",
              "      <td>Everyone</td>\n",
              "      <td>Education;Education</td>\n",
              "      <td>August 6, 2018</td>\n",
              "      <td>Varies with device</td>\n",
              "      <td>Varies with device</td>\n",
              "    </tr>\n",
              "    <tr>\n",
              "      <th>8658</th>\n",
              "      <td>ColorNote Notepad Notes</td>\n",
              "      <td>PRODUCTIVITY</td>\n",
              "      <td>4.6</td>\n",
              "      <td>2401017.0</td>\n",
              "      <td>NaN</td>\n",
              "      <td>100000000.0</td>\n",
              "      <td>Free</td>\n",
              "      <td>0</td>\n",
              "      <td>Everyone</td>\n",
              "      <td>Productivity</td>\n",
              "      <td>June 27, 2018</td>\n",
              "      <td>Varies with device</td>\n",
              "      <td>Varies with device</td>\n",
              "    </tr>\n",
              "  </tbody>\n",
              "</table>\n",
              "<p>89 rows × 13 columns</p>\n",
              "</div>"
            ],
            "text/plain": [
              "                                        App  ...         Android Ver\n",
              "139                    Wattpad 📖 Free Books  ...  Varies with device\n",
              "371   Google Duo - High Quality Video Calls  ...          4.4 and up\n",
              "699          Duolingo: Learn Languages Free  ...  Varies with device\n",
              "784          Duolingo: Learn Languages Free  ...  Varies with device\n",
              "799          Duolingo: Learn Languages Free  ...  Varies with device\n",
              "...                                     ...  ...                 ...\n",
              "7539        CM Locker - Security Lockscreen  ...  Varies with device\n",
              "7808         CamScanner - Phone PDF Creator  ...  Varies with device\n",
              "7937                         Shadow Fight 2  ...          3.0 and up\n",
              "8439         Duolingo: Learn Languages Free  ...  Varies with device\n",
              "8658                ColorNote Notepad Notes  ...  Varies with device\n",
              "\n",
              "[89 rows x 13 columns]"
            ]
          },
          "metadata": {
            "tags": []
          },
          "execution_count": 362
        }
      ]
    },
    {
      "cell_type": "markdown",
      "metadata": {
        "id": "mzgLHVdwXRDG"
      },
      "source": [
        "It seems There are duplicates in data , We have to remove them as well ,Duplicacy can cause data redundancy "
      ]
    },
    {
      "cell_type": "code",
      "metadata": {
        "id": "YFZ-OluhJ4qm"
      },
      "source": [
        "users_df=users_df.drop_duplicates().reindex()"
      ],
      "execution_count": 363,
      "outputs": []
    },
    {
      "cell_type": "code",
      "metadata": {
        "id": "EpY1Xnj9Wmn2"
      },
      "source": [
        "playstore_df=playstore_df.drop_duplicates(subset='App').reindex()"
      ],
      "execution_count": 364,
      "outputs": []
    },
    {
      "cell_type": "code",
      "metadata": {
        "id": "wVKMdCE1nHhy",
        "outputId": "428b7510-4e98-4ecf-aaef-e910b0fda7ad",
        "colab": {
          "base_uri": "https://localhost:8080/",
          "height": 418
        }
      },
      "source": [
        "plt.figure(figsize=(10,5))\n",
        "playstore_df['Content Rating'][playstore_df['Content Rating']!='Everyone'].value_counts().plot(kind='bar',grid=True)"
      ],
      "execution_count": 365,
      "outputs": [
        {
          "output_type": "execute_result",
          "data": {
            "text/plain": [
              "<matplotlib.axes._subplots.AxesSubplot at 0x7f545fdc2940>"
            ]
          },
          "metadata": {
            "tags": []
          },
          "execution_count": 365
        },
        {
          "output_type": "display_data",
          "data": {
            "image/png": "[encoded data removed]",
            "text/plain": [
              "<Figure size 720x360 with 1 Axes>"
            ]
          },
          "metadata": {
            "tags": [],
            "needs_background": "light"
          }
        }
      ]
    },
    {
      "cell_type": "code",
      "metadata": {
        "id": "ktE2zVbsnUC6"
      },
      "source": [
        "playstore_df['Last Updated']= pd.to_datetime(playstore_df['Last Updated'])"
      ],
      "execution_count": 366,
      "outputs": []
    },
    {
      "cell_type": "code",
      "metadata": {
        "id": "fZZqA8zGrv38"
      },
      "source": [
        ""
      ],
      "execution_count": 366,
      "outputs": []
    },
    {
      "cell_type": "code",
      "metadata": {
        "id": "9xBjjJBzpI0l"
      },
      "source": [
        "categories_installs=playstore_df.groupby(by='Category')[\"Installs\"].mean()"
      ],
      "execution_count": 367,
      "outputs": []
    },
    {
      "cell_type": "code",
      "metadata": {
        "id": "PJLdD0TgvJcP"
      },
      "source": [
        "categories_installs=categories_installs.sort_values()"
      ],
      "execution_count": 368,
      "outputs": []
    },
    {
      "cell_type": "markdown",
      "metadata": {
        "id": "iO-aLWWQkKuR"
      },
      "source": [
        "There Are 33 categories In which"
      ]
    },
    {
      "cell_type": "code",
      "metadata": {
        "id": "K1QsCg0Azfg2",
        "outputId": "4cb7c356-1b3b-4bef-c311-42e7d8d75adc",
        "colab": {
          "base_uri": "https://localhost:8080/",
          "height": 865
        }
      },
      "source": [
        "plt.figure(figsize=(12,12))\n",
        "categories_installs.plot(kind='bar',grid=True,facecolor='orange', edgecolor='k')\n",
        "plt.xlabel(\"Categories\")\n",
        "plt.ylabel(\"Installations\")\n",
        "plt.title(\"Categories and Installs\")\n",
        "plt.show()"
      ],
      "execution_count": 369,
      "outputs": [
        {
          "output_type": "display_data",
          "data": {
            "image/png": "[encoded data removed]",
            "text/plain": [
              "<Figure size 864x864 with 1 Axes>"
            ]
          },
          "metadata": {
            "tags": [],
            "needs_background": "light"
          }
        }
      ]
    },
    {
      "cell_type": "code",
      "metadata": {
        "id": "UDBw7vAvi_yA",
        "outputId": "19858e87-888f-4a8a-d1d9-a1c4a393055f",
        "colab": {
          "base_uri": "https://localhost:8080/"
        }
      },
      "source": [
        "categories_installs[-3:]     # top 3 categeories "
      ],
      "execution_count": 370,
      "outputs": [
        {
          "output_type": "execute_result",
          "data": {
            "text/plain": [
              "Category\n",
              "SOCIAL           2.296179e+07\n",
              "VIDEO_PLAYERS    2.409143e+07\n",
              "COMMUNICATION    3.504215e+07\n",
              "Name: Installs, dtype: float64"
            ]
          },
          "metadata": {
            "tags": []
          },
          "execution_count": 370
        }
      ]
    },
    {
      "cell_type": "markdown",
      "metadata": {
        "id": "nU8zEBshwTqb"
      },
      "source": [
        "From This we can conclude that The VIDEO_PLAYERS,SOCIAL,COMMUNICATION \n",
        "Are the highest installed categeories  "
      ]
    },
    {
      "cell_type": "code",
      "metadata": {
        "id": "vYuTzhRSrJsP"
      },
      "source": [
        "Category_review_ratings=playstore_df.groupby(by=\"Category\")[[\"Rating\",\"Reviews\",\"Installs\"]].mean().reset_index()\n",
        "\n",
        "Category_review_ratings[\"Total_Rating\"]=Category_review_ratings[\"Rating\"]*Category_review_ratings[\"Reviews\"]"
      ],
      "execution_count": 371,
      "outputs": []
    },
    {
      "cell_type": "code",
      "metadata": {
        "id": "uTwHrnRAB_RH",
        "outputId": "32a29eba-5a31-41a3-cda0-84aa356c1c59",
        "colab": {
          "base_uri": "https://localhost:8080/",
          "height": 1000
        }
      },
      "source": [
        "Category_review_ratings"
      ],
      "execution_count": 372,
      "outputs": [
        {
          "output_type": "execute_result",
          "data": {
            "text/html": [
              "<div>\n",
              "<style scoped>\n",
              "    .dataframe tbody tr th:only-of-type {\n",
              "        vertical-align: middle;\n",
              "    }\n",
              "\n",
              "    .dataframe tbody tr th {\n",
              "        vertical-align: top;\n",
              "    }\n",
              "\n",
              "    .dataframe thead th {\n",
              "        text-align: right;\n",
              "    }\n",
              "</style>\n",
              "<table border=\"1\" class=\"dataframe\">\n",
              "  <thead>\n",
              "    <tr style=\"text-align: right;\">\n",
              "      <th></th>\n",
              "      <th>Category</th>\n",
              "      <th>Rating</th>\n",
              "      <th>Reviews</th>\n",
              "      <th>Installs</th>\n",
              "      <th>Total_Rating</th>\n",
              "    </tr>\n",
              "  </thead>\n",
              "  <tbody>\n",
              "    <tr>\n",
              "      <th>0</th>\n",
              "      <td>ART_AND_DESIGN</td>\n",
              "      <td>4.357377</td>\n",
              "      <td>22175.046875</td>\n",
              "      <td>1.786533e+06</td>\n",
              "      <td>9.662504e+04</td>\n",
              "    </tr>\n",
              "    <tr>\n",
              "      <th>1</th>\n",
              "      <td>AUTO_AND_VEHICLES</td>\n",
              "      <td>4.190411</td>\n",
              "      <td>13690.188235</td>\n",
              "      <td>6.250613e+05</td>\n",
              "      <td>5.736751e+04</td>\n",
              "    </tr>\n",
              "    <tr>\n",
              "      <th>2</th>\n",
              "      <td>BEAUTY</td>\n",
              "      <td>4.278571</td>\n",
              "      <td>7476.226415</td>\n",
              "      <td>5.131519e+05</td>\n",
              "      <td>3.198757e+04</td>\n",
              "    </tr>\n",
              "    <tr>\n",
              "      <th>3</th>\n",
              "      <td>BOOKS_AND_REFERENCE</td>\n",
              "      <td>4.344970</td>\n",
              "      <td>75321.234234</td>\n",
              "      <td>7.504367e+06</td>\n",
              "      <td>3.272685e+05</td>\n",
              "    </tr>\n",
              "    <tr>\n",
              "      <th>4</th>\n",
              "      <td>BUSINESS</td>\n",
              "      <td>4.098479</td>\n",
              "      <td>23548.202381</td>\n",
              "      <td>1.659916e+06</td>\n",
              "      <td>9.651182e+04</td>\n",
              "    </tr>\n",
              "    <tr>\n",
              "      <th>5</th>\n",
              "      <td>COMICS</td>\n",
              "      <td>4.181481</td>\n",
              "      <td>41822.696429</td>\n",
              "      <td>8.032348e+05</td>\n",
              "      <td>1.748808e+05</td>\n",
              "    </tr>\n",
              "    <tr>\n",
              "      <th>6</th>\n",
              "      <td>COMMUNICATION</td>\n",
              "      <td>4.121484</td>\n",
              "      <td>907337.676190</td>\n",
              "      <td>3.504215e+07</td>\n",
              "      <td>3.739578e+06</td>\n",
              "    </tr>\n",
              "    <tr>\n",
              "      <th>7</th>\n",
              "      <td>DATING</td>\n",
              "      <td>3.970149</td>\n",
              "      <td>21190.315789</td>\n",
              "      <td>8.241293e+05</td>\n",
              "      <td>8.412872e+04</td>\n",
              "    </tr>\n",
              "    <tr>\n",
              "      <th>8</th>\n",
              "      <td>EDUCATION</td>\n",
              "      <td>4.364407</td>\n",
              "      <td>112303.764706</td>\n",
              "      <td>2.965983e+06</td>\n",
              "      <td>4.901393e+05</td>\n",
              "    </tr>\n",
              "    <tr>\n",
              "      <th>9</th>\n",
              "      <td>ENTERTAINMENT</td>\n",
              "      <td>4.135294</td>\n",
              "      <td>340810.294118</td>\n",
              "      <td>2.072216e+07</td>\n",
              "      <td>1.409351e+06</td>\n",
              "    </tr>\n",
              "    <tr>\n",
              "      <th>10</th>\n",
              "      <td>EVENTS</td>\n",
              "      <td>4.435556</td>\n",
              "      <td>2515.906250</td>\n",
              "      <td>2.495806e+05</td>\n",
              "      <td>1.115944e+04</td>\n",
              "    </tr>\n",
              "    <tr>\n",
              "      <th>11</th>\n",
              "      <td>FAMILY</td>\n",
              "      <td>4.179664</td>\n",
              "      <td>78507.362445</td>\n",
              "      <td>2.416999e+06</td>\n",
              "      <td>3.281344e+05</td>\n",
              "    </tr>\n",
              "    <tr>\n",
              "      <th>12</th>\n",
              "      <td>FINANCE</td>\n",
              "      <td>4.115563</td>\n",
              "      <td>36701.756522</td>\n",
              "      <td>1.319851e+06</td>\n",
              "      <td>1.510484e+05</td>\n",
              "    </tr>\n",
              "    <tr>\n",
              "      <th>13</th>\n",
              "      <td>FOOD_AND_DRINK</td>\n",
              "      <td>4.172340</td>\n",
              "      <td>56473.464286</td>\n",
              "      <td>1.891060e+06</td>\n",
              "      <td>2.356265e+05</td>\n",
              "    </tr>\n",
              "    <tr>\n",
              "      <th>14</th>\n",
              "      <td>GAME</td>\n",
              "      <td>4.247368</td>\n",
              "      <td>648903.763295</td>\n",
              "      <td>1.447229e+07</td>\n",
              "      <td>2.756133e+06</td>\n",
              "    </tr>\n",
              "    <tr>\n",
              "      <th>15</th>\n",
              "      <td>HEALTH_AND_FITNESS</td>\n",
              "      <td>4.243033</td>\n",
              "      <td>74171.371528</td>\n",
              "      <td>3.972300e+06</td>\n",
              "      <td>3.147116e+05</td>\n",
              "    </tr>\n",
              "    <tr>\n",
              "      <th>16</th>\n",
              "      <td>HOUSE_AND_HOME</td>\n",
              "      <td>4.150000</td>\n",
              "      <td>26079.013514</td>\n",
              "      <td>1.313682e+06</td>\n",
              "      <td>1.082279e+05</td>\n",
              "    </tr>\n",
              "    <tr>\n",
              "      <th>17</th>\n",
              "      <td>LIBRARIES_AND_DEMO</td>\n",
              "      <td>4.178125</td>\n",
              "      <td>10795.607143</td>\n",
              "      <td>6.309037e+05</td>\n",
              "      <td>4.510540e+04</td>\n",
              "    </tr>\n",
              "    <tr>\n",
              "      <th>18</th>\n",
              "      <td>LIFESTYLE</td>\n",
              "      <td>4.092000</td>\n",
              "      <td>31071.641304</td>\n",
              "      <td>1.341912e+06</td>\n",
              "      <td>1.271452e+05</td>\n",
              "    </tr>\n",
              "    <tr>\n",
              "      <th>19</th>\n",
              "      <td>MAPS_AND_NAVIGATION</td>\n",
              "      <td>4.036441</td>\n",
              "      <td>135337.007634</td>\n",
              "      <td>3.841846e+06</td>\n",
              "      <td>5.462798e+05</td>\n",
              "    </tr>\n",
              "    <tr>\n",
              "      <th>20</th>\n",
              "      <td>MEDICAL</td>\n",
              "      <td>4.166552</td>\n",
              "      <td>2994.863291</td>\n",
              "      <td>9.669159e+04</td>\n",
              "      <td>1.247825e+04</td>\n",
              "    </tr>\n",
              "    <tr>\n",
              "      <th>21</th>\n",
              "      <td>NEWS_AND_MAGAZINES</td>\n",
              "      <td>4.121569</td>\n",
              "      <td>91063.889764</td>\n",
              "      <td>9.327629e+06</td>\n",
              "      <td>3.753261e+05</td>\n",
              "    </tr>\n",
              "    <tr>\n",
              "      <th>22</th>\n",
              "      <td>PARENTING</td>\n",
              "      <td>4.300000</td>\n",
              "      <td>15972.183333</td>\n",
              "      <td>5.253518e+05</td>\n",
              "      <td>6.868039e+04</td>\n",
              "    </tr>\n",
              "    <tr>\n",
              "      <th>23</th>\n",
              "      <td>PERSONALIZATION</td>\n",
              "      <td>4.332215</td>\n",
              "      <td>142401.808511</td>\n",
              "      <td>4.075784e+06</td>\n",
              "      <td>6.169152e+05</td>\n",
              "    </tr>\n",
              "    <tr>\n",
              "      <th>24</th>\n",
              "      <td>PHOTOGRAPHY</td>\n",
              "      <td>4.157414</td>\n",
              "      <td>374915.551601</td>\n",
              "      <td>1.654501e+07</td>\n",
              "      <td>1.558679e+06</td>\n",
              "    </tr>\n",
              "    <tr>\n",
              "      <th>25</th>\n",
              "      <td>PRODUCTIVITY</td>\n",
              "      <td>4.183389</td>\n",
              "      <td>148638.098930</td>\n",
              "      <td>1.548955e+07</td>\n",
              "      <td>6.218109e+05</td>\n",
              "    </tr>\n",
              "    <tr>\n",
              "      <th>26</th>\n",
              "      <td>SHOPPING</td>\n",
              "      <td>4.230000</td>\n",
              "      <td>220553.118812</td>\n",
              "      <td>6.932420e+06</td>\n",
              "      <td>9.329397e+05</td>\n",
              "    </tr>\n",
              "    <tr>\n",
              "      <th>27</th>\n",
              "      <td>SOCIAL</td>\n",
              "      <td>4.247291</td>\n",
              "      <td>953672.807531</td>\n",
              "      <td>2.296179e+07</td>\n",
              "      <td>4.050526e+06</td>\n",
              "    </tr>\n",
              "    <tr>\n",
              "      <th>28</th>\n",
              "      <td>SPORTS</td>\n",
              "      <td>4.216154</td>\n",
              "      <td>108765.578462</td>\n",
              "      <td>3.373768e+06</td>\n",
              "      <td>4.585724e+05</td>\n",
              "    </tr>\n",
              "    <tr>\n",
              "      <th>29</th>\n",
              "      <td>TOOLS</td>\n",
              "      <td>4.039554</td>\n",
              "      <td>277335.644498</td>\n",
              "      <td>9.675661e+06</td>\n",
              "      <td>1.120312e+06</td>\n",
              "    </tr>\n",
              "    <tr>\n",
              "      <th>30</th>\n",
              "      <td>TRAVEL_AND_LOCAL</td>\n",
              "      <td>4.069519</td>\n",
              "      <td>122464.570776</td>\n",
              "      <td>1.321866e+07</td>\n",
              "      <td>4.983719e+05</td>\n",
              "    </tr>\n",
              "    <tr>\n",
              "      <th>31</th>\n",
              "      <td>VIDEO_PLAYERS</td>\n",
              "      <td>4.044595</td>\n",
              "      <td>414015.754601</td>\n",
              "      <td>2.409143e+07</td>\n",
              "      <td>1.674526e+06</td>\n",
              "    </tr>\n",
              "    <tr>\n",
              "      <th>32</th>\n",
              "      <td>WEATHER</td>\n",
              "      <td>4.243056</td>\n",
              "      <td>155634.987342</td>\n",
              "      <td>4.570893e+06</td>\n",
              "      <td>6.603679e+05</td>\n",
              "    </tr>\n",
              "  </tbody>\n",
              "</table>\n",
              "</div>"
            ],
            "text/plain": [
              "               Category    Rating        Reviews      Installs  Total_Rating\n",
              "0        ART_AND_DESIGN  4.357377   22175.046875  1.786533e+06  9.662504e+04\n",
              "1     AUTO_AND_VEHICLES  4.190411   13690.188235  6.250613e+05  5.736751e+04\n",
              "2                BEAUTY  4.278571    7476.226415  5.131519e+05  3.198757e+04\n",
              "3   BOOKS_AND_REFERENCE  4.344970   75321.234234  7.504367e+06  3.272685e+05\n",
              "4              BUSINESS  4.098479   23548.202381  1.659916e+06  9.651182e+04\n",
              "5                COMICS  4.181481   41822.696429  8.032348e+05  1.748808e+05\n",
              "6         COMMUNICATION  4.121484  907337.676190  3.504215e+07  3.739578e+06\n",
              "7                DATING  3.970149   21190.315789  8.241293e+05  8.412872e+04\n",
              "8             EDUCATION  4.364407  112303.764706  2.965983e+06  4.901393e+05\n",
              "9         ENTERTAINMENT  4.135294  340810.294118  2.072216e+07  1.409351e+06\n",
              "10               EVENTS  4.435556    2515.906250  2.495806e+05  1.115944e+04\n",
              "11               FAMILY  4.179664   78507.362445  2.416999e+06  3.281344e+05\n",
              "12              FINANCE  4.115563   36701.756522  1.319851e+06  1.510484e+05\n",
              "13       FOOD_AND_DRINK  4.172340   56473.464286  1.891060e+06  2.356265e+05\n",
              "14                 GAME  4.247368  648903.763295  1.447229e+07  2.756133e+06\n",
              "15   HEALTH_AND_FITNESS  4.243033   74171.371528  3.972300e+06  3.147116e+05\n",
              "16       HOUSE_AND_HOME  4.150000   26079.013514  1.313682e+06  1.082279e+05\n",
              "17   LIBRARIES_AND_DEMO  4.178125   10795.607143  6.309037e+05  4.510540e+04\n",
              "18            LIFESTYLE  4.092000   31071.641304  1.341912e+06  1.271452e+05\n",
              "19  MAPS_AND_NAVIGATION  4.036441  135337.007634  3.841846e+06  5.462798e+05\n",
              "20              MEDICAL  4.166552    2994.863291  9.669159e+04  1.247825e+04\n",
              "21   NEWS_AND_MAGAZINES  4.121569   91063.889764  9.327629e+06  3.753261e+05\n",
              "22            PARENTING  4.300000   15972.183333  5.253518e+05  6.868039e+04\n",
              "23      PERSONALIZATION  4.332215  142401.808511  4.075784e+06  6.169152e+05\n",
              "24          PHOTOGRAPHY  4.157414  374915.551601  1.654501e+07  1.558679e+06\n",
              "25         PRODUCTIVITY  4.183389  148638.098930  1.548955e+07  6.218109e+05\n",
              "26             SHOPPING  4.230000  220553.118812  6.932420e+06  9.329397e+05\n",
              "27               SOCIAL  4.247291  953672.807531  2.296179e+07  4.050526e+06\n",
              "28               SPORTS  4.216154  108765.578462  3.373768e+06  4.585724e+05\n",
              "29                TOOLS  4.039554  277335.644498  9.675661e+06  1.120312e+06\n",
              "30     TRAVEL_AND_LOCAL  4.069519  122464.570776  1.321866e+07  4.983719e+05\n",
              "31        VIDEO_PLAYERS  4.044595  414015.754601  2.409143e+07  1.674526e+06\n",
              "32              WEATHER  4.243056  155634.987342  4.570893e+06  6.603679e+05"
            ]
          },
          "metadata": {
            "tags": []
          },
          "execution_count": 372
        }
      ]
    },
    {
      "cell_type": "code",
      "metadata": {
        "id": "B0ATnUXEWV3-"
      },
      "source": [
        "Category_review_ratings.set_index(\"Category\",inplace=True)"
      ],
      "execution_count": 373,
      "outputs": []
    },
    {
      "cell_type": "code",
      "metadata": {
        "id": "WoHnFyvYW_N-"
      },
      "source": [
        "Category_review_ratings=Category_review_ratings"
      ],
      "execution_count": 374,
      "outputs": []
    },
    {
      "cell_type": "code",
      "metadata": {
        "id": "_ZacKZmuXoaG",
        "outputId": "34ecc039-e27b-4736-9ebf-700352ab895b",
        "colab": {
          "base_uri": "https://localhost:8080/",
          "height": 865
        }
      },
      "source": [
        "\n",
        "plt.figure(figsize=(12,12))\n",
        "Category_review_ratings['Total_Rating'].sort_values(ascending=False).plot(kind=\"bar\",facecolor='green', edgecolor='k',width=0.5)\n",
        "plt.xlabel(\"Categories\")\n",
        "plt.ylabel(\"Total Reviews\")\n",
        "plt.title(\"Categories and Installs\")\n",
        "plt.show()"
      ],
      "execution_count": 375,
      "outputs": [
        {
          "output_type": "display_data",
          "data": {
            "image/png": "[encoded data removed]",
            "text/plain": [
              "<Figure size 864x864 with 1 Axes>"
            ]
          },
          "metadata": {
            "tags": [],
            "needs_background": "light"
          }
        }
      ]
    },
    {
      "cell_type": "code",
      "metadata": {
        "id": "RltbuOJrZKh6",
        "outputId": "fbff2eb8-60ec-40d0-a33c-0f1ccb715924",
        "colab": {
          "base_uri": "https://localhost:8080/",
          "height": 441
        }
      },
      "source": [
        " \n",
        "plt.figure(figsize=(8,5))\n",
        "Category_review_ratings['Total_Rating'].sort_values(ascending=False)[:5].plot(kind=\"bar\",facecolor='green', edgecolor='k',width=0.4)\n",
        "plt.xlabel(\"Categories\")\n",
        "plt.ylabel(\"Total Reviews\")\n",
        "plt.title(\"Categories and Installs\")\n",
        "plt.show()"
      ],
      "execution_count": 376,
      "outputs": [
        {
          "output_type": "display_data",
          "data": {
            "image/png": "[encoded data removed]",
            "text/plain": [
              "<Figure size 576x360 with 1 Axes>"
            ]
          },
          "metadata": {
            "tags": [],
            "needs_background": "light"
          }
        }
      ]
    },
    {
      "cell_type": "markdown",
      "metadata": {
        "id": "eFCd7mUjOAwq"
      },
      "source": [
        "The Top 5 categeroies"
      ]
    },
    {
      "cell_type": "code",
      "metadata": {
        "id": "bDiD0tvJYCCV"
      },
      "source": [
        "playstore_df['Price']=playstore_df['Price'].astype(float)"
      ],
      "execution_count": 377,
      "outputs": []
    },
    {
      "cell_type": "code",
      "metadata": {
        "id": "5xhyc4iYY24y",
        "outputId": "0fe034be-2135-4fd3-d494-2a160b88822e",
        "colab": {
          "base_uri": "https://localhost:8080/",
          "height": 437
        }
      },
      "source": [
        "playstore_df.loc[:,['Genres','Price']][playstore_df['Price']>0].groupby(by='Genres').mean()"
      ],
      "execution_count": 378,
      "outputs": [
        {
          "output_type": "execute_result",
          "data": {
            "text/html": [
              "<div>\n",
              "<style scoped>\n",
              "    .dataframe tbody tr th:only-of-type {\n",
              "        vertical-align: middle;\n",
              "    }\n",
              "\n",
              "    .dataframe tbody tr th {\n",
              "        vertical-align: top;\n",
              "    }\n",
              "\n",
              "    .dataframe thead th {\n",
              "        text-align: right;\n",
              "    }\n",
              "</style>\n",
              "<table border=\"1\" class=\"dataframe\">\n",
              "  <thead>\n",
              "    <tr style=\"text-align: right;\">\n",
              "      <th></th>\n",
              "      <th>Price</th>\n",
              "    </tr>\n",
              "    <tr>\n",
              "      <th>Genres</th>\n",
              "      <th></th>\n",
              "    </tr>\n",
              "  </thead>\n",
              "  <tbody>\n",
              "    <tr>\n",
              "      <th>Action</th>\n",
              "      <td>3.469167</td>\n",
              "    </tr>\n",
              "    <tr>\n",
              "      <th>Action;Action &amp; Adventure</th>\n",
              "      <td>2.990000</td>\n",
              "    </tr>\n",
              "    <tr>\n",
              "      <th>Adventure</th>\n",
              "      <td>4.490000</td>\n",
              "    </tr>\n",
              "    <tr>\n",
              "      <th>Adventure;Action &amp; Adventure</th>\n",
              "      <td>4.990000</td>\n",
              "    </tr>\n",
              "    <tr>\n",
              "      <th>Adventure;Brain Games</th>\n",
              "      <td>2.990000</td>\n",
              "    </tr>\n",
              "    <tr>\n",
              "      <th>...</th>\n",
              "      <td>...</td>\n",
              "    </tr>\n",
              "    <tr>\n",
              "      <th>Strategy;Action &amp; Adventure</th>\n",
              "      <td>3.990000</td>\n",
              "    </tr>\n",
              "    <tr>\n",
              "      <th>Tools</th>\n",
              "      <td>3.426282</td>\n",
              "    </tr>\n",
              "    <tr>\n",
              "      <th>Travel &amp; Local</th>\n",
              "      <td>4.162500</td>\n",
              "    </tr>\n",
              "    <tr>\n",
              "      <th>Video Players &amp; Editors</th>\n",
              "      <td>2.615000</td>\n",
              "    </tr>\n",
              "    <tr>\n",
              "      <th>Weather</th>\n",
              "      <td>4.052500</td>\n",
              "    </tr>\n",
              "  </tbody>\n",
              "</table>\n",
              "<p>72 rows × 1 columns</p>\n",
              "</div>"
            ],
            "text/plain": [
              "                                 Price\n",
              "Genres                                \n",
              "Action                        3.469167\n",
              "Action;Action & Adventure     2.990000\n",
              "Adventure                     4.490000\n",
              "Adventure;Action & Adventure  4.990000\n",
              "Adventure;Brain Games         2.990000\n",
              "...                                ...\n",
              "Strategy;Action & Adventure   3.990000\n",
              "Tools                         3.426282\n",
              "Travel & Local                4.162500\n",
              "Video Players & Editors       2.615000\n",
              "Weather                       4.052500\n",
              "\n",
              "[72 rows x 1 columns]"
            ]
          },
          "metadata": {
            "tags": []
          },
          "execution_count": 378
        }
      ]
    },
    {
      "cell_type": "code",
      "metadata": {
        "id": "tESZM0eEPoQK"
      },
      "source": [
        "corelation_apps=playstore_df[['Rating',\t'Reviews',\t'Size',\t'Installs']].corr()"
      ],
      "execution_count": 379,
      "outputs": []
    },
    {
      "cell_type": "code",
      "metadata": {
        "id": "fZ0c3RAnR9e2",
        "outputId": "2b4e3151-ee60-4a0b-f299-90d4a001b9eb",
        "colab": {
          "base_uri": "https://localhost:8080/",
          "height": 381
        }
      },
      "source": [
        "f,ax = plt.subplots(figsize=(8, 6))\n",
        "sns.heatmap(corelation_apps, annot=True, linewidths=.5, fmt= '.1f',ax=ax, vmin=0)\n",
        "plt.show()"
      ],
      "execution_count": 380,
      "outputs": [
        {
          "output_type": "display_data",
          "data": {
            "image/png": "[encoded data removed]",
            "text/plain": [
              "<Figure size 576x432 with 2 Axes>"
            ]
          },
          "metadata": {
            "tags": [],
            "needs_background": "light"
          }
        }
      ]
    },
    {
      "cell_type": "markdown",
      "metadata": {
        "id": "v69sWBVlTF7F"
      },
      "source": [
        "This shows The positive corelation between the the no of reviews and the no of install , so if there are high reach of any application and people give review for some application that contributes into increasing the no of install"
      ]
    },
    {
      "cell_type": "code",
      "metadata": {
        "id": "cqMs15HsS5Fe",
        "outputId": "bbc5fc95-c037-4080-e469-9c1a345a16ff",
        "colab": {
          "base_uri": "https://localhost:8080/",
          "height": 430
        }
      },
      "source": [
        "sns.set_theme(style=\"whitegrid\")\n",
        "plt.subplots(figsize=(8, 6))\n",
        "Ratings_of_apps=playstore_df['Rating'].dropna()\n",
        "sns.kdeplot(shade=True,data=Ratings_of_apps,color='blue')\n",
        "print(np.median(Ratings_of_apps))\n",
        "print(np.mean(Ratings_of_apps))"
      ],
      "execution_count": 381,
      "outputs": [
        {
          "output_type": "stream",
          "text": [
            "4.3\n",
            "4.1732031726662635\n"
          ],
          "name": "stdout"
        },
        {
          "output_type": "display_data",
          "data": {
            "image/png": "[encoded data removed]",
            "text/plain": [
              "<Figure size 576x432 with 1 Axes>"
            ]
          },
          "metadata": {
            "tags": []
          }
        }
      ]
    },
    {
      "cell_type": "markdown",
      "metadata": {
        "id": "OgICN81gZDvs"
      },
      "source": [
        "This shows That the Ratings have left Skewed value with median 4.3 And mean 4.1732031726662635 mean < median"
      ]
    },
    {
      "cell_type": "code",
      "metadata": {
        "id": "HxAiVs0QYSKJ",
        "outputId": "79912c9d-3e72-421e-c78b-265a7d03992d",
        "colab": {
          "base_uri": "https://localhost:8080/",
          "height": 333
        }
      },
      "source": [
        "sns.set_theme(style=\"whitegrid\")\n",
        "sizes_of_apps=playstore_df['Size'].dropna()\n",
        "\n",
        "sns.kdeplot(shade=True,data=sizes_of_apps,color='red')\n",
        "print(np.median(sizes_of_apps))\n",
        "print(np.mean(sizes_of_apps))\n",
        "plt.rcParams['figure.figsize'] = (8,5)"
      ],
      "execution_count": 382,
      "outputs": [
        {
          "output_type": "stream",
          "text": [
            "12000000.0\n",
            "18370097.03289051\n"
          ],
          "name": "stdout"
        },
        {
          "output_type": "display_data",
          "data": {
            "image/png": "[encoded data removed]",
            "text/plain": [
              "<Figure size 432x288 with 1 Axes>"
            ]
          },
          "metadata": {
            "tags": []
          }
        }
      ]
    },
    {
      "cell_type": "markdown",
      "metadata": {
        "id": "-2HiYM4ThUsB"
      },
      "source": [
        "The size of applications shows right skweed trend and it is dia modular most of apps are small in size and there are few outliers on the positive side"
      ]
    },
    {
      "cell_type": "code",
      "metadata": {
        "id": "9r11IfCqlcyK",
        "outputId": "d18250b3-03be-4dd2-d93c-edc6075b0f38",
        "colab": {
          "base_uri": "https://localhost:8080/",
          "height": 386
        }
      },
      "source": [
        "sns.set_theme(style=\"whitegrid\")\n",
        "Installs_of_apps=playstore_df['Installs'].dropna()\n",
        "sns.kdeplot(shade=True,data=Installs_of_apps,color='blue')\n",
        "print(np.median(Installs_of_apps))\n",
        "print(np.mean(Installs_of_apps))"
      ],
      "execution_count": 383,
      "outputs": [
        {
          "output_type": "stream",
          "text": [
            "100000.0\n",
            "7777276.612859805\n"
          ],
          "name": "stdout"
        },
        {
          "output_type": "display_data",
          "data": {
            "image/png": "[encoded data removed]",
            "text/plain": [
              "<Figure size 576x360 with 1 Axes>"
            ]
          },
          "metadata": {
            "tags": []
          }
        }
      ]
    },
    {
      "cell_type": "markdown",
      "metadata": {
        "id": "HS-qO0wXNxdq"
      },
      "source": [
        "The ibstalls are right skewed very less appes hith high no of installs are threre"
      ]
    },
    {
      "cell_type": "code",
      "metadata": {
        "id": "85s1JAHQhHeo"
      },
      "source": [
        "users_df=users_df.dropna()\n",
        "corelation_subjectivity_polarity=users_df.corr()"
      ],
      "execution_count": 384,
      "outputs": []
    },
    {
      "cell_type": "code",
      "metadata": {
        "id": "Hl3tF7C6jWMV",
        "outputId": "4487a74f-7d60-4414-81e5-7d8976d7f0b8",
        "colab": {
          "base_uri": "https://localhost:8080/",
          "height": 403
        }
      },
      "source": [
        "f,ax = plt.subplots(figsize=(6, 6))\n",
        "sns.heatmap(corelation_subjectivity_polarity, annot=True, linewidths=.5, fmt= '.1f',ax=ax, vmin=-1)\n",
        "plt.show()"
      ],
      "execution_count": 385,
      "outputs": [
        {
          "output_type": "display_data",
          "data": {
            "image/png": "[encoded data removed]",
            "text/plain": [
              "<Figure size 432x432 with 2 Axes>"
            ]
          },
          "metadata": {
            "tags": []
          }
        }
      ]
    },
    {
      "cell_type": "markdown",
      "metadata": {
        "id": "uzMw2hRIlETo"
      },
      "source": [
        "It Shows somewhat positive correlation between sentiment polarity and sentiment subjectivity"
      ]
    },
    {
      "cell_type": "code",
      "metadata": {
        "id": "uU5pPCCkkusF",
        "outputId": "d7808c96-a7d5-4e61-dcb0-3e4c11db0240",
        "colab": {
          "base_uri": "https://localhost:8080/"
        }
      },
      "source": [
        "users_df\n",
        "users_df.pivot_table(index=['Translated_Review'], aggfunc='size')"
      ],
      "execution_count": 386,
      "outputs": [
        {
          "output_type": "execute_result",
          "data": {
            "text/plain": [
              "Translated_Review\n",
              "!!!Dont waste time! Failed Samsung flagship phone galaxy s8, Installed ,shows rotating circle internet download, keeps rotates forever proper progress indication; finally shows failed download. Stupid game developers. Go NFS working good.    1\n",
              "\"...Future Follow updated follow\"...                                                                                                                                                                                                              1\n",
              "\"An error occurred while loading the search results. Please try again.\" And so it's already 2 days. The reinstallation did not help                                                                                                               1\n",
              "\"Cisco Spark stopped working\" error group work. We 4 groups last days stopped working. Only seems issue Android devices Apple.                                                                                                                    1\n",
              "\"Classic\" allows untimed play; game holds position interrupted put awhile. \"Survival\" speeds requires quick decision making.                                                                                                                      1\n",
              "                                                                                                                                                                                                                                                 ..\n",
              "☆ It sooooo fun. I like fighting part fight players even know about! ☆                                                                                                                                                                            1\n",
              "☆☆☆☆♡To good guy made game instructions                                                                                                                                                                                                           1\n",
              "♡ Amazon                                                                                                                                                                                                                                          1\n",
              "❤❤ sometimes hands typing is not convenient to use, except this update on a version 10.19 a nice keyboard hands-on                                                                                                                                1\n",
              "搵楼租楼 A lot of time, a lot of time management, easy to take care of                                                                                                                                                                                1\n",
              "Length: 27994, dtype: int64"
            ]
          },
          "metadata": {
            "tags": []
          },
          "execution_count": 386
        }
      ]
    },
    {
      "cell_type": "code",
      "metadata": {
        "id": "WiFULY_ILDxq",
        "outputId": "f61cc16a-62ac-47d4-f5eb-d7fb85224390",
        "colab": {
          "base_uri": "https://localhost:8080/",
          "height": 371
        }
      },
      "source": [
        "app_info_df=playstore_df[['App','Category','Rating','Reviews','Size','Installs']]\n",
        "\t\n",
        "combined_df=pd.merge(users_df,app_info_df)\n",
        "\n",
        "combined_df.head()"
      ],
      "execution_count": 387,
      "outputs": [
        {
          "output_type": "execute_result",
          "data": {
            "text/html": [
              "<div>\n",
              "<style scoped>\n",
              "    .dataframe tbody tr th:only-of-type {\n",
              "        vertical-align: middle;\n",
              "    }\n",
              "\n",
              "    .dataframe tbody tr th {\n",
              "        vertical-align: top;\n",
              "    }\n",
              "\n",
              "    .dataframe thead th {\n",
              "        text-align: right;\n",
              "    }\n",
              "</style>\n",
              "<table border=\"1\" class=\"dataframe\">\n",
              "  <thead>\n",
              "    <tr style=\"text-align: right;\">\n",
              "      <th></th>\n",
              "      <th>App</th>\n",
              "      <th>Translated_Review</th>\n",
              "      <th>Sentiment</th>\n",
              "      <th>Sentiment_Polarity</th>\n",
              "      <th>Sentiment_Subjectivity</th>\n",
              "      <th>Category</th>\n",
              "      <th>Rating</th>\n",
              "      <th>Reviews</th>\n",
              "      <th>Size</th>\n",
              "      <th>Installs</th>\n",
              "    </tr>\n",
              "  </thead>\n",
              "  <tbody>\n",
              "    <tr>\n",
              "      <th>0</th>\n",
              "      <td>10 Best Foods for You</td>\n",
              "      <td>I like eat delicious food. That's I'm cooking ...</td>\n",
              "      <td>Positive</td>\n",
              "      <td>1.00</td>\n",
              "      <td>0.533333</td>\n",
              "      <td>HEALTH_AND_FITNESS</td>\n",
              "      <td>4.0</td>\n",
              "      <td>2490.0</td>\n",
              "      <td>3.8</td>\n",
              "      <td>500000.0</td>\n",
              "    </tr>\n",
              "    <tr>\n",
              "      <th>1</th>\n",
              "      <td>10 Best Foods for You</td>\n",
              "      <td>This help eating healthy exercise regular basis</td>\n",
              "      <td>Positive</td>\n",
              "      <td>0.25</td>\n",
              "      <td>0.288462</td>\n",
              "      <td>HEALTH_AND_FITNESS</td>\n",
              "      <td>4.0</td>\n",
              "      <td>2490.0</td>\n",
              "      <td>3.8</td>\n",
              "      <td>500000.0</td>\n",
              "    </tr>\n",
              "    <tr>\n",
              "      <th>2</th>\n",
              "      <td>10 Best Foods for You</td>\n",
              "      <td>Works great especially going grocery store</td>\n",
              "      <td>Positive</td>\n",
              "      <td>0.40</td>\n",
              "      <td>0.875000</td>\n",
              "      <td>HEALTH_AND_FITNESS</td>\n",
              "      <td>4.0</td>\n",
              "      <td>2490.0</td>\n",
              "      <td>3.8</td>\n",
              "      <td>500000.0</td>\n",
              "    </tr>\n",
              "    <tr>\n",
              "      <th>3</th>\n",
              "      <td>10 Best Foods for You</td>\n",
              "      <td>Best idea us</td>\n",
              "      <td>Positive</td>\n",
              "      <td>1.00</td>\n",
              "      <td>0.300000</td>\n",
              "      <td>HEALTH_AND_FITNESS</td>\n",
              "      <td>4.0</td>\n",
              "      <td>2490.0</td>\n",
              "      <td>3.8</td>\n",
              "      <td>500000.0</td>\n",
              "    </tr>\n",
              "    <tr>\n",
              "      <th>4</th>\n",
              "      <td>10 Best Foods for You</td>\n",
              "      <td>Best way</td>\n",
              "      <td>Positive</td>\n",
              "      <td>1.00</td>\n",
              "      <td>0.300000</td>\n",
              "      <td>HEALTH_AND_FITNESS</td>\n",
              "      <td>4.0</td>\n",
              "      <td>2490.0</td>\n",
              "      <td>3.8</td>\n",
              "      <td>500000.0</td>\n",
              "    </tr>\n",
              "  </tbody>\n",
              "</table>\n",
              "</div>"
            ],
            "text/plain": [
              "                     App  ...  Installs\n",
              "0  10 Best Foods for You  ...  500000.0\n",
              "1  10 Best Foods for You  ...  500000.0\n",
              "2  10 Best Foods for You  ...  500000.0\n",
              "3  10 Best Foods for You  ...  500000.0\n",
              "4  10 Best Foods for You  ...  500000.0\n",
              "\n",
              "[5 rows x 10 columns]"
            ]
          },
          "metadata": {
            "tags": []
          },
          "execution_count": 387
        }
      ]
    },
    {
      "cell_type": "code",
      "metadata": {
        "id": "0WUA8Iu0NNiv",
        "outputId": "1a3352eb-60ee-44ba-90de-c7e20daa10d9",
        "colab": {
          "base_uri": "https://localhost:8080/",
          "height": 775
        }
      },
      "source": [
        "gr=combined_df.groupby(['Category','Sentiment'])['Sentiment_Polarity'].count().unstack()\n",
        "\n",
        "gr.plot(kind='bar',width=0.8,figsize=(18, 10))\n",
        "plt.title('Categeory wise Sentiment Plarity')\n",
        "plt.ylabel('Number of Reviews')\n",
        "plt.xlabel('Categeories')\n"
      ],
      "execution_count": 400,
      "outputs": [
        {
          "output_type": "execute_result",
          "data": {
            "text/plain": [
              "Text(0.5, 0, 'Categeories')"
            ]
          },
          "metadata": {
            "tags": []
          },
          "execution_count": 400
        },
        {
          "output_type": "display_data",
          "data": {
            "image/png": "[encoded data removed]",
            "text/plain": [
              "<Figure size 1296x720 with 1 Axes>"
            ]
          },
          "metadata": {
            "tags": []
          }
        }
      ]
    },
    {
      "cell_type": "code",
      "metadata": {
        "id": "EA5uvE_RO5yM"
      },
      "source": [
        "combined_df=combined_df.dropna()"
      ],
      "execution_count": 389,
      "outputs": []
    },
    {
      "cell_type": "code",
      "metadata": {
        "id": "EyNIlxWWSYm-",
        "outputId": "b9b6ca00-3706-4f91-c6d8-b99a1f763ddc",
        "colab": {
          "base_uri": "https://localhost:8080/",
          "height": 228
        }
      },
      "source": [
        "combined_df.corr()"
      ],
      "execution_count": 390,
      "outputs": [
        {
          "output_type": "execute_result",
          "data": {
            "text/html": [
              "<div>\n",
              "<style scoped>\n",
              "    .dataframe tbody tr th:only-of-type {\n",
              "        vertical-align: middle;\n",
              "    }\n",
              "\n",
              "    .dataframe tbody tr th {\n",
              "        vertical-align: top;\n",
              "    }\n",
              "\n",
              "    .dataframe thead th {\n",
              "        text-align: right;\n",
              "    }\n",
              "</style>\n",
              "<table border=\"1\" class=\"dataframe\">\n",
              "  <thead>\n",
              "    <tr style=\"text-align: right;\">\n",
              "      <th></th>\n",
              "      <th>Sentiment_Polarity</th>\n",
              "      <th>Sentiment_Subjectivity</th>\n",
              "      <th>Rating</th>\n",
              "      <th>Reviews</th>\n",
              "      <th>Size</th>\n",
              "      <th>Installs</th>\n",
              "    </tr>\n",
              "  </thead>\n",
              "  <tbody>\n",
              "    <tr>\n",
              "      <th>Sentiment_Polarity</th>\n",
              "      <td>1.000000</td>\n",
              "      <td>0.273182</td>\n",
              "      <td>0.101877</td>\n",
              "      <td>-0.087425</td>\n",
              "      <td>-0.154718</td>\n",
              "      <td>-0.070613</td>\n",
              "    </tr>\n",
              "    <tr>\n",
              "      <th>Sentiment_Subjectivity</th>\n",
              "      <td>0.273182</td>\n",
              "      <td>1.000000</td>\n",
              "      <td>0.074806</td>\n",
              "      <td>0.004013</td>\n",
              "      <td>0.009997</td>\n",
              "      <td>-0.002713</td>\n",
              "    </tr>\n",
              "    <tr>\n",
              "      <th>Rating</th>\n",
              "      <td>0.101877</td>\n",
              "      <td>0.074806</td>\n",
              "      <td>1.000000</td>\n",
              "      <td>0.155281</td>\n",
              "      <td>0.130300</td>\n",
              "      <td>0.044176</td>\n",
              "    </tr>\n",
              "    <tr>\n",
              "      <th>Reviews</th>\n",
              "      <td>-0.087425</td>\n",
              "      <td>0.004013</td>\n",
              "      <td>0.155281</td>\n",
              "      <td>1.000000</td>\n",
              "      <td>0.367566</td>\n",
              "      <td>0.399252</td>\n",
              "    </tr>\n",
              "    <tr>\n",
              "      <th>Size</th>\n",
              "      <td>-0.154718</td>\n",
              "      <td>0.009997</td>\n",
              "      <td>0.130300</td>\n",
              "      <td>0.367566</td>\n",
              "      <td>1.000000</td>\n",
              "      <td>0.206243</td>\n",
              "    </tr>\n",
              "    <tr>\n",
              "      <th>Installs</th>\n",
              "      <td>-0.070613</td>\n",
              "      <td>-0.002713</td>\n",
              "      <td>0.044176</td>\n",
              "      <td>0.399252</td>\n",
              "      <td>0.206243</td>\n",
              "      <td>1.000000</td>\n",
              "    </tr>\n",
              "  </tbody>\n",
              "</table>\n",
              "</div>"
            ],
            "text/plain": [
              "                        Sentiment_Polarity  ...  Installs\n",
              "Sentiment_Polarity                1.000000  ... -0.070613\n",
              "Sentiment_Subjectivity            0.273182  ... -0.002713\n",
              "Rating                            0.101877  ...  0.044176\n",
              "Reviews                          -0.087425  ...  0.399252\n",
              "Size                             -0.154718  ...  0.206243\n",
              "Installs                         -0.070613  ...  1.000000\n",
              "\n",
              "[6 rows x 6 columns]"
            ]
          },
          "metadata": {
            "tags": []
          },
          "execution_count": 390
        }
      ]
    },
    {
      "cell_type": "code",
      "metadata": {
        "id": "RRJv9NO9SjL1",
        "outputId": "0787ddbc-63cf-48f3-f619-dbe1af263f07",
        "colab": {
          "base_uri": "https://localhost:8080/",
          "height": 498
        }
      },
      "source": [
        "f,ax = plt.subplots(figsize=(6, 6))\n",
        "sns.heatmap(combined_df.corr(), annot=True, linewidths=.5, fmt= '.1f',ax=ax, vmin=-1)\n",
        "plt.show()"
      ],
      "execution_count": 391,
      "outputs": [
        {
          "output_type": "display_data",
          "data": {
            "image/png": "[encoded data removed]",
            "text/plain": [
              "<Figure size 432x432 with 2 Axes>"
            ]
          },
          "metadata": {
            "tags": []
          }
        }
      ]
    },
    {
      "cell_type": "markdown",
      "metadata": {
        "id": "ZL6ilO7tM_x_"
      },
      "source": [
        "The size of apps has some positive correlation with the reviews and installs"
      ]
    },
    {
      "cell_type": "code",
      "metadata": {
        "id": "ZVGB__y-SxtN",
        "outputId": "afeda174-c708-4fd0-a1e8-d9caf550cf5e",
        "colab": {
          "base_uri": "https://localhost:8080/",
          "height": 108
        }
      },
      "source": [
        "Category_review_ratings[['Installs',\t'Total_Rating']].corr()"
      ],
      "execution_count": 392,
      "outputs": [
        {
          "output_type": "execute_result",
          "data": {
            "text/html": [
              "<div>\n",
              "<style scoped>\n",
              "    .dataframe tbody tr th:only-of-type {\n",
              "        vertical-align: middle;\n",
              "    }\n",
              "\n",
              "    .dataframe tbody tr th {\n",
              "        vertical-align: top;\n",
              "    }\n",
              "\n",
              "    .dataframe thead th {\n",
              "        text-align: right;\n",
              "    }\n",
              "</style>\n",
              "<table border=\"1\" class=\"dataframe\">\n",
              "  <thead>\n",
              "    <tr style=\"text-align: right;\">\n",
              "      <th></th>\n",
              "      <th>Installs</th>\n",
              "      <th>Total_Rating</th>\n",
              "    </tr>\n",
              "  </thead>\n",
              "  <tbody>\n",
              "    <tr>\n",
              "      <th>Installs</th>\n",
              "      <td>1.000000</td>\n",
              "      <td>0.868184</td>\n",
              "    </tr>\n",
              "    <tr>\n",
              "      <th>Total_Rating</th>\n",
              "      <td>0.868184</td>\n",
              "      <td>1.000000</td>\n",
              "    </tr>\n",
              "  </tbody>\n",
              "</table>\n",
              "</div>"
            ],
            "text/plain": [
              "              Installs  Total_Rating\n",
              "Installs      1.000000      0.868184\n",
              "Total_Rating  0.868184      1.000000"
            ]
          },
          "metadata": {
            "tags": []
          },
          "execution_count": 392
        }
      ]
    },
    {
      "cell_type": "code",
      "metadata": {
        "id": "2CA1I-IlhOSg",
        "outputId": "54c672e5-1820-4a4a-ff34-08fd18a67f3a",
        "colab": {
          "base_uri": "https://localhost:8080/",
          "height": 381
        }
      },
      "source": [
        "f,ax = plt.subplots(figsize=(6, 6))\n",
        "sns.heatmap(Category_review_ratings[['Rating','Installs','Total_Rating']].corr(), annot=True, linewidths=.5, fmt= '.1f',ax=ax, vmin=-1,cmap=\"YlGnBu\")\n",
        "plt.show()"
      ],
      "execution_count": 393,
      "outputs": [
        {
          "output_type": "display_data",
          "data": {
            "image/png": "[encoded data removed]",
            "text/plain": [
              "<Figure size 432x432 with 2 Axes>"
            ]
          },
          "metadata": {
            "tags": []
          }
        }
      ]
    },
    {
      "cell_type": "markdown",
      "metadata": {
        "id": "2EoP_mgtkXp1"
      },
      "source": [
        "*From This We can conclude that using avg ratings and avg No of reviews product with in each categeory it shows high positive correlation , ie the reach of reviews can help in the no installs and hence in the success of any application*\n",
        "This Shows that feature engennering we did makes sense since it shows positive corelation With installs so it can helps us in predicting the no of installs and so the Success of any app\n"
      ]
    },
    {
      "cell_type": "code",
      "metadata": {
        "id": "yBIlb5G4k6OY"
      },
      "source": [
        "cols_to_norm = ['Rating']\n",
        "combined_df['new_ratings'] = combined_df[cols_to_norm].apply(lambda x: (x - x.min()) / (x.max() - x.min()))"
      ],
      "execution_count": 394,
      "outputs": []
    },
    {
      "cell_type": "code",
      "metadata": {
        "id": "LTBGCkFZxkv0",
        "outputId": "c931c789-6eb7-4794-b065-ed1a8a3ed6c9",
        "colab": {
          "base_uri": "https://localhost:8080/",
          "height": 412
        }
      },
      "source": [
        "plt.subplots(figsize=(8, 6))\n",
        "sns.kdeplot(shade=True,data=combined_df['Sentiment_Subjectivity'],color='blue')\n"
      ],
      "execution_count": 395,
      "outputs": [
        {
          "output_type": "execute_result",
          "data": {
            "text/plain": [
              "<matplotlib.axes._subplots.AxesSubplot at 0x7f5460b83780>"
            ]
          },
          "metadata": {
            "tags": []
          },
          "execution_count": 395
        },
        {
          "output_type": "display_data",
          "data": {
            "image/png": "[encoded data removed]",
            "text/plain": [
              "<Figure size 576x432 with 1 Axes>"
            ]
          },
          "metadata": {
            "tags": []
          }
        }
      ]
    },
    {
      "cell_type": "code",
      "metadata": {
        "id": "LjIA6bx52781",
        "outputId": "b2106917-c35d-4101-a372-30cb2e5d699e",
        "colab": {
          "base_uri": "https://localhost:8080/",
          "height": 357
        }
      },
      "source": [
        "\n",
        "sns.kdeplot(shade=True,data=combined_df['Sentiment_Polarity'],color='blue')\n"
      ],
      "execution_count": 396,
      "outputs": [
        {
          "output_type": "execute_result",
          "data": {
            "text/plain": [
              "<matplotlib.axes._subplots.AxesSubplot at 0x7f545fb2e048>"
            ]
          },
          "metadata": {
            "tags": []
          },
          "execution_count": 396
        },
        {
          "output_type": "display_data",
          "data": {
            "image/png": "[encoded data removed]",
            "text/plain": [
              "<Figure size 576x360 with 1 Axes>"
            ]
          },
          "metadata": {
            "tags": []
          }
        }
      ]
    },
    {
      "cell_type": "code",
      "metadata": {
        "id": "0h4UdY-4J2NW",
        "outputId": "4c1b8ee1-9c11-496d-ce22-f51d81ee0242",
        "colab": {
          "base_uri": "https://localhost:8080/",
          "height": 340
        }
      },
      "source": [
        "fig, ax = plt.subplots(2,2)\n",
        "\n",
        "sns.kdeplot(shade=True,data=combined_df[['Sentiment_Subjectivity','new_ratings']][combined_df['Sentiment']=='Negative'],color='blue')\n",
        "ax1=plt.subplot(2, 2, 1)\n",
        "sns.kdeplot(shade=True,data=combined_df[['Sentiment_Subjectivity','new_ratings']][combined_df['Sentiment']=='Positive'],color='blue')\n",
        "ax1=plt.subplot(2, 2, 2)\n",
        "sns.kdeplot(shade=True,data=combined_df[['Sentiment_Polarity','new_ratings']][combined_df['Sentiment']=='Positive'],color='blue')\n",
        "ax1=plt.subplot(2, 2, 3)\n",
        "sns.kdeplot(shade=True,data=combined_df[['Sentiment_Polarity','new_ratings']][combined_df['Sentiment']=='Negative'],color='blue')\n"
      ],
      "execution_count": 397,
      "outputs": [
        {
          "output_type": "execute_result",
          "data": {
            "text/plain": [
              "<matplotlib.axes._subplots.AxesSubplot at 0x7f545f96b0f0>"
            ]
          },
          "metadata": {
            "tags": []
          },
          "execution_count": 397
        },
        {
          "output_type": "display_data",
          "data": {
            "image/png": "[encoded data removed]",
            "text/plain": [
              "<Figure size 576x360 with 4 Axes>"
            ]
          },
          "metadata": {
            "tags": []
          }
        }
      ]
    },
    {
      "cell_type": "code",
      "metadata": {
        "id": "Fwel45APKK10",
        "outputId": "87ed596f-131e-455a-a32b-a83dbdd01a9e",
        "colab": {
          "base_uri": "https://localhost:8080/",
          "height": 258
        }
      },
      "source": [
        "combined_df.corr()"
      ],
      "execution_count": 398,
      "outputs": [
        {
          "output_type": "execute_result",
          "data": {
            "text/html": [
              "<div>\n",
              "<style scoped>\n",
              "    .dataframe tbody tr th:only-of-type {\n",
              "        vertical-align: middle;\n",
              "    }\n",
              "\n",
              "    .dataframe tbody tr th {\n",
              "        vertical-align: top;\n",
              "    }\n",
              "\n",
              "    .dataframe thead th {\n",
              "        text-align: right;\n",
              "    }\n",
              "</style>\n",
              "<table border=\"1\" class=\"dataframe\">\n",
              "  <thead>\n",
              "    <tr style=\"text-align: right;\">\n",
              "      <th></th>\n",
              "      <th>Sentiment_Polarity</th>\n",
              "      <th>Sentiment_Subjectivity</th>\n",
              "      <th>Rating</th>\n",
              "      <th>Reviews</th>\n",
              "      <th>Size</th>\n",
              "      <th>Installs</th>\n",
              "      <th>new_ratings</th>\n",
              "    </tr>\n",
              "  </thead>\n",
              "  <tbody>\n",
              "    <tr>\n",
              "      <th>Sentiment_Polarity</th>\n",
              "      <td>1.000000</td>\n",
              "      <td>0.273182</td>\n",
              "      <td>0.101877</td>\n",
              "      <td>-0.087425</td>\n",
              "      <td>-0.154718</td>\n",
              "      <td>-0.070613</td>\n",
              "      <td>0.101877</td>\n",
              "    </tr>\n",
              "    <tr>\n",
              "      <th>Sentiment_Subjectivity</th>\n",
              "      <td>0.273182</td>\n",
              "      <td>1.000000</td>\n",
              "      <td>0.074806</td>\n",
              "      <td>0.004013</td>\n",
              "      <td>0.009997</td>\n",
              "      <td>-0.002713</td>\n",
              "      <td>0.074806</td>\n",
              "    </tr>\n",
              "    <tr>\n",
              "      <th>Rating</th>\n",
              "      <td>0.101877</td>\n",
              "      <td>0.074806</td>\n",
              "      <td>1.000000</td>\n",
              "      <td>0.155281</td>\n",
              "      <td>0.130300</td>\n",
              "      <td>0.044176</td>\n",
              "      <td>1.000000</td>\n",
              "    </tr>\n",
              "    <tr>\n",
              "      <th>Reviews</th>\n",
              "      <td>-0.087425</td>\n",
              "      <td>0.004013</td>\n",
              "      <td>0.155281</td>\n",
              "      <td>1.000000</td>\n",
              "      <td>0.367566</td>\n",
              "      <td>0.399252</td>\n",
              "      <td>0.155281</td>\n",
              "    </tr>\n",
              "    <tr>\n",
              "      <th>Size</th>\n",
              "      <td>-0.154718</td>\n",
              "      <td>0.009997</td>\n",
              "      <td>0.130300</td>\n",
              "      <td>0.367566</td>\n",
              "      <td>1.000000</td>\n",
              "      <td>0.206243</td>\n",
              "      <td>0.130300</td>\n",
              "    </tr>\n",
              "    <tr>\n",
              "      <th>Installs</th>\n",
              "      <td>-0.070613</td>\n",
              "      <td>-0.002713</td>\n",
              "      <td>0.044176</td>\n",
              "      <td>0.399252</td>\n",
              "      <td>0.206243</td>\n",
              "      <td>1.000000</td>\n",
              "      <td>0.044176</td>\n",
              "    </tr>\n",
              "    <tr>\n",
              "      <th>new_ratings</th>\n",
              "      <td>0.101877</td>\n",
              "      <td>0.074806</td>\n",
              "      <td>1.000000</td>\n",
              "      <td>0.155281</td>\n",
              "      <td>0.130300</td>\n",
              "      <td>0.044176</td>\n",
              "      <td>1.000000</td>\n",
              "    </tr>\n",
              "  </tbody>\n",
              "</table>\n",
              "</div>"
            ],
            "text/plain": [
              "                        Sentiment_Polarity  ...  new_ratings\n",
              "Sentiment_Polarity                1.000000  ...     0.101877\n",
              "Sentiment_Subjectivity            0.273182  ...     0.074806\n",
              "Rating                            0.101877  ...     1.000000\n",
              "Reviews                          -0.087425  ...     0.155281\n",
              "Size                             -0.154718  ...     0.130300\n",
              "Installs                         -0.070613  ...     0.044176\n",
              "new_ratings                       0.101877  ...     1.000000\n",
              "\n",
              "[7 rows x 7 columns]"
            ]
          },
          "metadata": {
            "tags": []
          },
          "execution_count": 398
        }
      ]
    },
    {
      "cell_type": "markdown",
      "metadata": {
        "id": "vK71HN03KO3e"
      },
      "source": [
        "Ratings Doesnt shows any correlation with Sentiment_Polarity or Sentiment_Subjectivity. Ratings can only be predicted bu using all the features given"
      ]
    },
    {
      "cell_type": "code",
      "metadata": {
        "id": "_0WuTgKbKMzN"
      },
      "source": [
        ""
      ],
      "execution_count": 398,
      "outputs": []
    }
  ]
}